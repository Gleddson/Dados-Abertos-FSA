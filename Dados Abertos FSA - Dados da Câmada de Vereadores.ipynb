{
  "nbformat": 4,
  "nbformat_minor": 0,
  "metadata": {
    "colab": {
      "name": "Atividade 2 - DS",
      "provenance": [],
      "collapsed_sections": []
    },
    "kernelspec": {
      "display_name": "Python 3",
      "name": "python3"
    },
    "language_info": {
      "name": "python"
    }
  },
  "cells": [
    {
      "cell_type": "markdown",
      "metadata": {
        "id": "tg4uX2eaHtId"
      },
      "source": [
        "\n",
        " **PGCC009 Ciência de Dados e Aprendizado de Máquina<br>\n",
        "Atividade 2**\n",
        "\n",
        "Para esta atividade vamos usar uma base disponibilizada pela iniciativa Dados Abertos de Feira (https://www.dadosabertosdefeira.com.br/) com dados de Assiduidade dos vereadores pelo painel eletrônico da Câmara de Vereadores de Feira de Santana, e podem ser acessados em https://www.kaggle.com/dadosabertosdefeira/assiduidade-dos-vereadores-painel-eletronico\n",
        "\n",
        "Foram disponibilizados dados no formato texto original e também em JSON, obtidos por script que extraiu e estruturou a informações. Com base no JSON, foi extraído um CSV  (código disponível em https://www.kaggle.com/dadosabertosdefeira/assiduidade-dos-vereadores-painel-eletronico/code)"
      ]
    },
    {
      "cell_type": "code",
      "metadata": {
        "id": "GRX2YYDNN6kQ"
      },
      "source": [
        "import pandas as pd\n",
        "import seaborn as sns\n",
        "import matplotlib.pyplot as plt\n",
        "import numpy as np\n",
        "from datetime import datetime \n",
        "\n",
        "from IPython.display import display, HTML\n",
        "\n",
        "import urllib.request"
      ],
      "execution_count": 45,
      "outputs": []
    },
    {
      "cell_type": "code",
      "metadata": {
        "id": "g98hEeexHnGU"
      },
      "source": [
        "opener = urllib.request.build_opener()\n",
        "opener.addheaders = [('User-agent', 'Mozilla/5.0 (Windows NT 10.0; Win64; x64) AppleWebKit/537.36 (KHTML, like Gecko) Chrome/83.0.4103.61 Safari/537.36')]\n",
        "urllib.request.install_opener(opener)\n",
        "\n",
        "url = \"http://aulas.artificial.eng.br/Home/pgcc009/AssiduidadeVereadoresFeiradeSantana-DadosAbertosdeFeira.csv.zip\"\n",
        "urllib.request.urlretrieve (url, \"assiduidade.csv.zip\")\n",
        "\n",
        "paineldf = pd.read_csv(\"assiduidade.csv.zip\",index_col=False, compression='zip')\n",
        "\n",
        "paineldf['date']= pd.to_datetime(paineldf['date'], format='%d/%m/%Y')"
      ],
      "execution_count": 46,
      "outputs": []
    },
    {
      "cell_type": "code",
      "metadata": {
        "colab": {
          "base_uri": "https://localhost:8080/",
          "height": 237
        },
        "id": "YoXV2wFwLS0P",
        "outputId": "7de2b165-8ae4-495d-94ab-81edbc049e07"
      },
      "source": [
        "display(\"DIMENSOES\",paineldf.shape)\n",
        "\n",
        "display(paineldf.head(5))"
      ],
      "execution_count": 47,
      "outputs": [
        {
          "output_type": "display_data",
          "data": {
            "application/vnd.google.colaboratory.intrinsic+json": {
              "type": "string"
            },
            "text/plain": [
              "'DIMENSOES'"
            ]
          },
          "metadata": {}
        },
        {
          "output_type": "display_data",
          "data": {
            "text/plain": [
              "(15195, 11)"
            ]
          },
          "metadata": {}
        },
        {
          "output_type": "display_data",
          "data": {
            "text/html": [
              "<div>\n",
              "<style scoped>\n",
              "    .dataframe tbody tr th:only-of-type {\n",
              "        vertical-align: middle;\n",
              "    }\n",
              "\n",
              "    .dataframe tbody tr th {\n",
              "        vertical-align: top;\n",
              "    }\n",
              "\n",
              "    .dataframe thead th {\n",
              "        text-align: right;\n",
              "    }\n",
              "</style>\n",
              "<table border=\"1\" class=\"dataframe\">\n",
              "  <thead>\n",
              "    <tr style=\"text-align: right;\">\n",
              "      <th></th>\n",
              "      <th>Unnamed: 0</th>\n",
              "      <th>agency</th>\n",
              "      <th>report</th>\n",
              "      <th>session</th>\n",
              "      <th>date</th>\n",
              "      <th>report_generated_by</th>\n",
              "      <th>report_generated_at</th>\n",
              "      <th>name</th>\n",
              "      <th>party</th>\n",
              "      <th>text</th>\n",
              "      <th>attendance</th>\n",
              "    </tr>\n",
              "  </thead>\n",
              "  <tbody>\n",
              "    <tr>\n",
              "      <th>0</th>\n",
              "      <td>0</td>\n",
              "      <td>Câmara Municipal de Ferira de Santana</td>\n",
              "      <td>Relatório de Presenças por Reunião</td>\n",
              "      <td>35ª SESSÃO ORDINÁRIA</td>\n",
              "      <td>2020-06-01</td>\n",
              "      <td>Yago Shamady</td>\n",
              "      <td>03/06/2020 10:59</td>\n",
              "      <td>ALBERTO NERY</td>\n",
              "      <td>PT</td>\n",
              "      <td>NaN</td>\n",
              "      <td>attending</td>\n",
              "    </tr>\n",
              "    <tr>\n",
              "      <th>1</th>\n",
              "      <td>1</td>\n",
              "      <td>Câmara Municipal de Ferira de Santana</td>\n",
              "      <td>Relatório de Presenças por Reunião</td>\n",
              "      <td>35ª SESSÃO ORDINÁRIA</td>\n",
              "      <td>2020-06-01</td>\n",
              "      <td>Yago Shamady</td>\n",
              "      <td>03/06/2020 10:59</td>\n",
              "      <td>CADMIEL PEREIRA</td>\n",
              "      <td>DEM</td>\n",
              "      <td>NaN</td>\n",
              "      <td>attending</td>\n",
              "    </tr>\n",
              "    <tr>\n",
              "      <th>2</th>\n",
              "      <td>2</td>\n",
              "      <td>Câmara Municipal de Ferira de Santana</td>\n",
              "      <td>Relatório de Presenças por Reunião</td>\n",
              "      <td>35ª SESSÃO ORDINÁRIA</td>\n",
              "      <td>2020-06-01</td>\n",
              "      <td>Yago Shamady</td>\n",
              "      <td>03/06/2020 10:59</td>\n",
              "      <td>EDVALDO LIMA</td>\n",
              "      <td>MDB</td>\n",
              "      <td>NaN</td>\n",
              "      <td>attending</td>\n",
              "    </tr>\n",
              "    <tr>\n",
              "      <th>3</th>\n",
              "      <td>3</td>\n",
              "      <td>Câmara Municipal de Ferira de Santana</td>\n",
              "      <td>Relatório de Presenças por Reunião</td>\n",
              "      <td>35ª SESSÃO ORDINÁRIA</td>\n",
              "      <td>2020-06-01</td>\n",
              "      <td>Yago Shamady</td>\n",
              "      <td>03/06/2020 10:59</td>\n",
              "      <td>ELI RIBEIRO</td>\n",
              "      <td>REP</td>\n",
              "      <td>NaN</td>\n",
              "      <td>attending</td>\n",
              "    </tr>\n",
              "    <tr>\n",
              "      <th>4</th>\n",
              "      <td>4</td>\n",
              "      <td>Câmara Municipal de Ferira de Santana</td>\n",
              "      <td>Relatório de Presenças por Reunião</td>\n",
              "      <td>35ª SESSÃO ORDINÁRIA</td>\n",
              "      <td>2020-06-01</td>\n",
              "      <td>Yago Shamady</td>\n",
              "      <td>03/06/2020 10:59</td>\n",
              "      <td>FABIANO DA VAN</td>\n",
              "      <td>MDB</td>\n",
              "      <td>NaN</td>\n",
              "      <td>attending</td>\n",
              "    </tr>\n",
              "  </tbody>\n",
              "</table>\n",
              "</div>"
            ],
            "text/plain": [
              "   Unnamed: 0                                 agency  ... text attendance\n",
              "0           0  Câmara Municipal de Ferira de Santana  ...  NaN  attending\n",
              "1           1  Câmara Municipal de Ferira de Santana  ...  NaN  attending\n",
              "2           2  Câmara Municipal de Ferira de Santana  ...  NaN  attending\n",
              "3           3  Câmara Municipal de Ferira de Santana  ...  NaN  attending\n",
              "4           4  Câmara Municipal de Ferira de Santana  ...  NaN  attending\n",
              "\n",
              "[5 rows x 11 columns]"
            ]
          },
          "metadata": {}
        }
      ]
    },
    {
      "cell_type": "markdown",
      "metadata": {
        "id": "Z5PR2AUZV649"
      },
      "source": [
        "O conjunto de dados de Assiduidade dos vereadores pelo painel eletrônico tem 15195 registros e 11 atributos."
      ]
    },
    {
      "cell_type": "code",
      "metadata": {
        "colab": {
          "base_uri": "https://localhost:8080/",
          "height": 443
        },
        "id": "8ZvhQ3D0Lk0o",
        "outputId": "d3f8956b-731c-439f-8c94-ae2887174741"
      },
      "source": [
        "display(paineldf.nunique())\n",
        "\n",
        "display(paineldf.dtypes)"
      ],
      "execution_count": 48,
      "outputs": [
        {
          "output_type": "display_data",
          "data": {
            "text/plain": [
              "Unnamed: 0              28\n",
              "agency                   1\n",
              "report                   1\n",
              "session                223\n",
              "date                   438\n",
              "report_generated_by      1\n",
              "report_generated_at    209\n",
              "name                    41\n",
              "party                   16\n",
              "text                    12\n",
              "attendance               3\n",
              "dtype: int64"
            ]
          },
          "metadata": {}
        },
        {
          "output_type": "display_data",
          "data": {
            "text/plain": [
              "Unnamed: 0                      int64\n",
              "agency                         object\n",
              "report                         object\n",
              "session                        object\n",
              "date                   datetime64[ns]\n",
              "report_generated_by            object\n",
              "report_generated_at            object\n",
              "name                           object\n",
              "party                          object\n",
              "text                           object\n",
              "attendance                     object\n",
              "dtype: object"
            ]
          },
          "metadata": {}
        }
      ]
    },
    {
      "cell_type": "code",
      "metadata": {
        "colab": {
          "base_uri": "https://localhost:8080/",
          "height": 220
        },
        "id": "gEKe6FZgTtJ9",
        "outputId": "79f92e76-6c51-470b-87e2-38311a293651"
      },
      "source": [
        "display( paineldf['attendance'].unique() )               \n",
        "\n",
        "ausentesdf = paineldf[ paineldf['attendance'] == 'absent']\n",
        "\n",
        "display(ausentesdf.head(5))"
      ],
      "execution_count": 49,
      "outputs": [
        {
          "output_type": "display_data",
          "data": {
            "text/plain": [
              "array(['attending', 'justified', 'absent'], dtype=object)"
            ]
          },
          "metadata": {}
        },
        {
          "output_type": "display_data",
          "data": {
            "text/html": [
              "<div>\n",
              "<style scoped>\n",
              "    .dataframe tbody tr th:only-of-type {\n",
              "        vertical-align: middle;\n",
              "    }\n",
              "\n",
              "    .dataframe tbody tr th {\n",
              "        vertical-align: top;\n",
              "    }\n",
              "\n",
              "    .dataframe thead th {\n",
              "        text-align: right;\n",
              "    }\n",
              "</style>\n",
              "<table border=\"1\" class=\"dataframe\">\n",
              "  <thead>\n",
              "    <tr style=\"text-align: right;\">\n",
              "      <th></th>\n",
              "      <th>Unnamed: 0</th>\n",
              "      <th>agency</th>\n",
              "      <th>report</th>\n",
              "      <th>session</th>\n",
              "      <th>date</th>\n",
              "      <th>report_generated_by</th>\n",
              "      <th>report_generated_at</th>\n",
              "      <th>name</th>\n",
              "      <th>party</th>\n",
              "      <th>text</th>\n",
              "      <th>attendance</th>\n",
              "    </tr>\n",
              "  </thead>\n",
              "  <tbody>\n",
              "    <tr>\n",
              "      <th>67</th>\n",
              "      <td>13</td>\n",
              "      <td>Câmara Municipal de Ferira de Santana</td>\n",
              "      <td>Relatório de Presenças por Reunião</td>\n",
              "      <td>91ª SESSÃO ORDINÁRIA</td>\n",
              "      <td>2020-11-16</td>\n",
              "      <td>Yago Shamady</td>\n",
              "      <td>10/12/2020 11:38</td>\n",
              "      <td>ELI RIBEIRO</td>\n",
              "      <td>REP</td>\n",
              "      <td>NaN</td>\n",
              "      <td>absent</td>\n",
              "    </tr>\n",
              "    <tr>\n",
              "      <th>68</th>\n",
              "      <td>14</td>\n",
              "      <td>Câmara Municipal de Ferira de Santana</td>\n",
              "      <td>Relatório de Presenças por Reunião</td>\n",
              "      <td>91ª SESSÃO ORDINÁRIA</td>\n",
              "      <td>2020-11-16</td>\n",
              "      <td>Yago Shamady</td>\n",
              "      <td>10/12/2020 11:38</td>\n",
              "      <td>FABIANO DA VAN</td>\n",
              "      <td>MDB</td>\n",
              "      <td>NaN</td>\n",
              "      <td>absent</td>\n",
              "    </tr>\n",
              "    <tr>\n",
              "      <th>69</th>\n",
              "      <td>15</td>\n",
              "      <td>Câmara Municipal de Ferira de Santana</td>\n",
              "      <td>Relatório de Presenças por Reunião</td>\n",
              "      <td>91ª SESSÃO ORDINÁRIA</td>\n",
              "      <td>2020-11-16</td>\n",
              "      <td>Yago Shamady</td>\n",
              "      <td>10/12/2020 11:38</td>\n",
              "      <td>MARCOS LIMA</td>\n",
              "      <td>DEM</td>\n",
              "      <td>NaN</td>\n",
              "      <td>absent</td>\n",
              "    </tr>\n",
              "    <tr>\n",
              "      <th>70</th>\n",
              "      <td>16</td>\n",
              "      <td>Câmara Municipal de Ferira de Santana</td>\n",
              "      <td>Relatório de Presenças por Reunião</td>\n",
              "      <td>91ª SESSÃO ORDINÁRIA</td>\n",
              "      <td>2020-11-16</td>\n",
              "      <td>Yago Shamady</td>\n",
              "      <td>10/12/2020 11:38</td>\n",
              "      <td>NEINHA</td>\n",
              "      <td>DEM</td>\n",
              "      <td>NaN</td>\n",
              "      <td>absent</td>\n",
              "    </tr>\n",
              "    <tr>\n",
              "      <th>71</th>\n",
              "      <td>17</td>\n",
              "      <td>Câmara Municipal de Ferira de Santana</td>\n",
              "      <td>Relatório de Presenças por Reunião</td>\n",
              "      <td>91ª SESSÃO ORDINÁRIA</td>\n",
              "      <td>2020-11-16</td>\n",
              "      <td>Yago Shamady</td>\n",
              "      <td>10/12/2020 11:38</td>\n",
              "      <td>ZÉ CURUCA</td>\n",
              "      <td>DEM</td>\n",
              "      <td>NaN</td>\n",
              "      <td>absent</td>\n",
              "    </tr>\n",
              "  </tbody>\n",
              "</table>\n",
              "</div>"
            ],
            "text/plain": [
              "    Unnamed: 0                                 agency  ... text attendance\n",
              "67          13  Câmara Municipal de Ferira de Santana  ...  NaN     absent\n",
              "68          14  Câmara Municipal de Ferira de Santana  ...  NaN     absent\n",
              "69          15  Câmara Municipal de Ferira de Santana  ...  NaN     absent\n",
              "70          16  Câmara Municipal de Ferira de Santana  ...  NaN     absent\n",
              "71          17  Câmara Municipal de Ferira de Santana  ...  NaN     absent\n",
              "\n",
              "[5 rows x 11 columns]"
            ]
          },
          "metadata": {}
        }
      ]
    },
    {
      "cell_type": "code",
      "metadata": {
        "colab": {
          "base_uri": "https://localhost:8080/",
          "height": 538
        },
        "id": "g-G0CADSWhit",
        "outputId": "8907712e-9585-4a0d-9fb6-927259179cd8"
      },
      "source": [
        "presencadf = paineldf\n",
        "\n",
        "presencadf['year'] = presencadf.date.dt.year\n",
        "\n",
        "presencadf = presencadf.groupby(['year','attendance']).count()\n",
        "\n",
        "display(presencadf)"
      ],
      "execution_count": 50,
      "outputs": [
        {
          "output_type": "display_data",
          "data": {
            "text/html": [
              "<div>\n",
              "<style scoped>\n",
              "    .dataframe tbody tr th:only-of-type {\n",
              "        vertical-align: middle;\n",
              "    }\n",
              "\n",
              "    .dataframe tbody tr th {\n",
              "        vertical-align: top;\n",
              "    }\n",
              "\n",
              "    .dataframe thead th {\n",
              "        text-align: right;\n",
              "    }\n",
              "</style>\n",
              "<table border=\"1\" class=\"dataframe\">\n",
              "  <thead>\n",
              "    <tr style=\"text-align: right;\">\n",
              "      <th></th>\n",
              "      <th></th>\n",
              "      <th>Unnamed: 0</th>\n",
              "      <th>agency</th>\n",
              "      <th>report</th>\n",
              "      <th>session</th>\n",
              "      <th>date</th>\n",
              "      <th>report_generated_by</th>\n",
              "      <th>report_generated_at</th>\n",
              "      <th>name</th>\n",
              "      <th>party</th>\n",
              "      <th>text</th>\n",
              "    </tr>\n",
              "    <tr>\n",
              "      <th>year</th>\n",
              "      <th>attendance</th>\n",
              "      <th></th>\n",
              "      <th></th>\n",
              "      <th></th>\n",
              "      <th></th>\n",
              "      <th></th>\n",
              "      <th></th>\n",
              "      <th></th>\n",
              "      <th></th>\n",
              "      <th></th>\n",
              "      <th></th>\n",
              "    </tr>\n",
              "  </thead>\n",
              "  <tbody>\n",
              "    <tr>\n",
              "      <th rowspan=\"3\" valign=\"top\">2017</th>\n",
              "      <th>absent</th>\n",
              "      <td>485</td>\n",
              "      <td>485</td>\n",
              "      <td>485</td>\n",
              "      <td>485</td>\n",
              "      <td>485</td>\n",
              "      <td>485</td>\n",
              "      <td>485</td>\n",
              "      <td>485</td>\n",
              "      <td>485</td>\n",
              "      <td>0</td>\n",
              "    </tr>\n",
              "    <tr>\n",
              "      <th>attending</th>\n",
              "      <td>1300</td>\n",
              "      <td>1300</td>\n",
              "      <td>1300</td>\n",
              "      <td>1300</td>\n",
              "      <td>1300</td>\n",
              "      <td>1300</td>\n",
              "      <td>1300</td>\n",
              "      <td>1300</td>\n",
              "      <td>1300</td>\n",
              "      <td>0</td>\n",
              "    </tr>\n",
              "    <tr>\n",
              "      <th>justified</th>\n",
              "      <td>510</td>\n",
              "      <td>510</td>\n",
              "      <td>510</td>\n",
              "      <td>510</td>\n",
              "      <td>510</td>\n",
              "      <td>510</td>\n",
              "      <td>510</td>\n",
              "      <td>510</td>\n",
              "      <td>510</td>\n",
              "      <td>510</td>\n",
              "    </tr>\n",
              "    <tr>\n",
              "      <th rowspan=\"3\" valign=\"top\">2018</th>\n",
              "      <th>absent</th>\n",
              "      <td>1348</td>\n",
              "      <td>1348</td>\n",
              "      <td>1348</td>\n",
              "      <td>1348</td>\n",
              "      <td>1348</td>\n",
              "      <td>1348</td>\n",
              "      <td>1348</td>\n",
              "      <td>1348</td>\n",
              "      <td>1348</td>\n",
              "      <td>0</td>\n",
              "    </tr>\n",
              "    <tr>\n",
              "      <th>attending</th>\n",
              "      <td>2599</td>\n",
              "      <td>2599</td>\n",
              "      <td>2599</td>\n",
              "      <td>2599</td>\n",
              "      <td>2599</td>\n",
              "      <td>2599</td>\n",
              "      <td>2599</td>\n",
              "      <td>2599</td>\n",
              "      <td>2599</td>\n",
              "      <td>0</td>\n",
              "    </tr>\n",
              "    <tr>\n",
              "      <th>justified</th>\n",
              "      <td>1128</td>\n",
              "      <td>1128</td>\n",
              "      <td>1128</td>\n",
              "      <td>1128</td>\n",
              "      <td>1128</td>\n",
              "      <td>1128</td>\n",
              "      <td>1128</td>\n",
              "      <td>1128</td>\n",
              "      <td>1128</td>\n",
              "      <td>1128</td>\n",
              "    </tr>\n",
              "    <tr>\n",
              "      <th rowspan=\"3\" valign=\"top\">2019</th>\n",
              "      <th>absent</th>\n",
              "      <td>1200</td>\n",
              "      <td>1200</td>\n",
              "      <td>1200</td>\n",
              "      <td>1200</td>\n",
              "      <td>1200</td>\n",
              "      <td>1200</td>\n",
              "      <td>1200</td>\n",
              "      <td>1200</td>\n",
              "      <td>1200</td>\n",
              "      <td>0</td>\n",
              "    </tr>\n",
              "    <tr>\n",
              "      <th>attending</th>\n",
              "      <td>2678</td>\n",
              "      <td>2678</td>\n",
              "      <td>2678</td>\n",
              "      <td>2678</td>\n",
              "      <td>2678</td>\n",
              "      <td>2678</td>\n",
              "      <td>2678</td>\n",
              "      <td>2678</td>\n",
              "      <td>2678</td>\n",
              "      <td>0</td>\n",
              "    </tr>\n",
              "    <tr>\n",
              "      <th>justified</th>\n",
              "      <td>1117</td>\n",
              "      <td>1117</td>\n",
              "      <td>1117</td>\n",
              "      <td>1117</td>\n",
              "      <td>1117</td>\n",
              "      <td>1117</td>\n",
              "      <td>1117</td>\n",
              "      <td>1117</td>\n",
              "      <td>1117</td>\n",
              "      <td>1117</td>\n",
              "    </tr>\n",
              "    <tr>\n",
              "      <th rowspan=\"3\" valign=\"top\">2020</th>\n",
              "      <th>absent</th>\n",
              "      <td>51</td>\n",
              "      <td>51</td>\n",
              "      <td>51</td>\n",
              "      <td>51</td>\n",
              "      <td>51</td>\n",
              "      <td>51</td>\n",
              "      <td>51</td>\n",
              "      <td>51</td>\n",
              "      <td>51</td>\n",
              "      <td>0</td>\n",
              "    </tr>\n",
              "    <tr>\n",
              "      <th>attending</th>\n",
              "      <td>1864</td>\n",
              "      <td>1864</td>\n",
              "      <td>1864</td>\n",
              "      <td>1864</td>\n",
              "      <td>1864</td>\n",
              "      <td>1864</td>\n",
              "      <td>1864</td>\n",
              "      <td>1864</td>\n",
              "      <td>1864</td>\n",
              "      <td>0</td>\n",
              "    </tr>\n",
              "    <tr>\n",
              "      <th>justified</th>\n",
              "      <td>682</td>\n",
              "      <td>682</td>\n",
              "      <td>682</td>\n",
              "      <td>682</td>\n",
              "      <td>682</td>\n",
              "      <td>682</td>\n",
              "      <td>682</td>\n",
              "      <td>682</td>\n",
              "      <td>682</td>\n",
              "      <td>682</td>\n",
              "    </tr>\n",
              "    <tr>\n",
              "      <th rowspan=\"3\" valign=\"top\">2021</th>\n",
              "      <th>absent</th>\n",
              "      <td>1</td>\n",
              "      <td>1</td>\n",
              "      <td>1</td>\n",
              "      <td>1</td>\n",
              "      <td>1</td>\n",
              "      <td>1</td>\n",
              "      <td>1</td>\n",
              "      <td>1</td>\n",
              "      <td>1</td>\n",
              "      <td>0</td>\n",
              "    </tr>\n",
              "    <tr>\n",
              "      <th>attending</th>\n",
              "      <td>207</td>\n",
              "      <td>207</td>\n",
              "      <td>207</td>\n",
              "      <td>207</td>\n",
              "      <td>207</td>\n",
              "      <td>207</td>\n",
              "      <td>207</td>\n",
              "      <td>207</td>\n",
              "      <td>207</td>\n",
              "      <td>0</td>\n",
              "    </tr>\n",
              "    <tr>\n",
              "      <th>justified</th>\n",
              "      <td>25</td>\n",
              "      <td>25</td>\n",
              "      <td>25</td>\n",
              "      <td>25</td>\n",
              "      <td>25</td>\n",
              "      <td>25</td>\n",
              "      <td>25</td>\n",
              "      <td>25</td>\n",
              "      <td>25</td>\n",
              "      <td>25</td>\n",
              "    </tr>\n",
              "  </tbody>\n",
              "</table>\n",
              "</div>"
            ],
            "text/plain": [
              "                 Unnamed: 0  agency  report  ...  name  party  text\n",
              "year attendance                              ...                   \n",
              "2017 absent             485     485     485  ...   485    485     0\n",
              "     attending         1300    1300    1300  ...  1300   1300     0\n",
              "     justified          510     510     510  ...   510    510   510\n",
              "2018 absent            1348    1348    1348  ...  1348   1348     0\n",
              "     attending         2599    2599    2599  ...  2599   2599     0\n",
              "     justified         1128    1128    1128  ...  1128   1128  1128\n",
              "2019 absent            1200    1200    1200  ...  1200   1200     0\n",
              "     attending         2678    2678    2678  ...  2678   2678     0\n",
              "     justified         1117    1117    1117  ...  1117   1117  1117\n",
              "2020 absent              51      51      51  ...    51     51     0\n",
              "     attending         1864    1864    1864  ...  1864   1864     0\n",
              "     justified          682     682     682  ...   682    682   682\n",
              "2021 absent               1       1       1  ...     1      1     0\n",
              "     attending          207     207     207  ...   207    207     0\n",
              "     justified           25      25      25  ...    25     25    25\n",
              "\n",
              "[15 rows x 10 columns]"
            ]
          },
          "metadata": {}
        }
      ]
    },
    {
      "cell_type": "code",
      "metadata": {
        "colab": {
          "base_uri": "https://localhost:8080/",
          "height": 202
        },
        "id": "Ua11zlc0H9CJ",
        "outputId": "5aa25894-58d3-4a58-add9-eb90f742871f"
      },
      "source": [
        "df = paineldf\n",
        "df.head()"
      ],
      "execution_count": 51,
      "outputs": [
        {
          "output_type": "execute_result",
          "data": {
            "text/html": [
              "<div>\n",
              "<style scoped>\n",
              "    .dataframe tbody tr th:only-of-type {\n",
              "        vertical-align: middle;\n",
              "    }\n",
              "\n",
              "    .dataframe tbody tr th {\n",
              "        vertical-align: top;\n",
              "    }\n",
              "\n",
              "    .dataframe thead th {\n",
              "        text-align: right;\n",
              "    }\n",
              "</style>\n",
              "<table border=\"1\" class=\"dataframe\">\n",
              "  <thead>\n",
              "    <tr style=\"text-align: right;\">\n",
              "      <th></th>\n",
              "      <th>Unnamed: 0</th>\n",
              "      <th>agency</th>\n",
              "      <th>report</th>\n",
              "      <th>session</th>\n",
              "      <th>date</th>\n",
              "      <th>report_generated_by</th>\n",
              "      <th>report_generated_at</th>\n",
              "      <th>name</th>\n",
              "      <th>party</th>\n",
              "      <th>text</th>\n",
              "      <th>attendance</th>\n",
              "      <th>year</th>\n",
              "    </tr>\n",
              "  </thead>\n",
              "  <tbody>\n",
              "    <tr>\n",
              "      <th>0</th>\n",
              "      <td>0</td>\n",
              "      <td>Câmara Municipal de Ferira de Santana</td>\n",
              "      <td>Relatório de Presenças por Reunião</td>\n",
              "      <td>35ª SESSÃO ORDINÁRIA</td>\n",
              "      <td>2020-06-01</td>\n",
              "      <td>Yago Shamady</td>\n",
              "      <td>03/06/2020 10:59</td>\n",
              "      <td>ALBERTO NERY</td>\n",
              "      <td>PT</td>\n",
              "      <td>NaN</td>\n",
              "      <td>attending</td>\n",
              "      <td>2020</td>\n",
              "    </tr>\n",
              "    <tr>\n",
              "      <th>1</th>\n",
              "      <td>1</td>\n",
              "      <td>Câmara Municipal de Ferira de Santana</td>\n",
              "      <td>Relatório de Presenças por Reunião</td>\n",
              "      <td>35ª SESSÃO ORDINÁRIA</td>\n",
              "      <td>2020-06-01</td>\n",
              "      <td>Yago Shamady</td>\n",
              "      <td>03/06/2020 10:59</td>\n",
              "      <td>CADMIEL PEREIRA</td>\n",
              "      <td>DEM</td>\n",
              "      <td>NaN</td>\n",
              "      <td>attending</td>\n",
              "      <td>2020</td>\n",
              "    </tr>\n",
              "    <tr>\n",
              "      <th>2</th>\n",
              "      <td>2</td>\n",
              "      <td>Câmara Municipal de Ferira de Santana</td>\n",
              "      <td>Relatório de Presenças por Reunião</td>\n",
              "      <td>35ª SESSÃO ORDINÁRIA</td>\n",
              "      <td>2020-06-01</td>\n",
              "      <td>Yago Shamady</td>\n",
              "      <td>03/06/2020 10:59</td>\n",
              "      <td>EDVALDO LIMA</td>\n",
              "      <td>MDB</td>\n",
              "      <td>NaN</td>\n",
              "      <td>attending</td>\n",
              "      <td>2020</td>\n",
              "    </tr>\n",
              "    <tr>\n",
              "      <th>3</th>\n",
              "      <td>3</td>\n",
              "      <td>Câmara Municipal de Ferira de Santana</td>\n",
              "      <td>Relatório de Presenças por Reunião</td>\n",
              "      <td>35ª SESSÃO ORDINÁRIA</td>\n",
              "      <td>2020-06-01</td>\n",
              "      <td>Yago Shamady</td>\n",
              "      <td>03/06/2020 10:59</td>\n",
              "      <td>ELI RIBEIRO</td>\n",
              "      <td>REP</td>\n",
              "      <td>NaN</td>\n",
              "      <td>attending</td>\n",
              "      <td>2020</td>\n",
              "    </tr>\n",
              "    <tr>\n",
              "      <th>4</th>\n",
              "      <td>4</td>\n",
              "      <td>Câmara Municipal de Ferira de Santana</td>\n",
              "      <td>Relatório de Presenças por Reunião</td>\n",
              "      <td>35ª SESSÃO ORDINÁRIA</td>\n",
              "      <td>2020-06-01</td>\n",
              "      <td>Yago Shamady</td>\n",
              "      <td>03/06/2020 10:59</td>\n",
              "      <td>FABIANO DA VAN</td>\n",
              "      <td>MDB</td>\n",
              "      <td>NaN</td>\n",
              "      <td>attending</td>\n",
              "      <td>2020</td>\n",
              "    </tr>\n",
              "  </tbody>\n",
              "</table>\n",
              "</div>"
            ],
            "text/plain": [
              "   Unnamed: 0                                 agency  ... attendance  year\n",
              "0           0  Câmara Municipal de Ferira de Santana  ...  attending  2020\n",
              "1           1  Câmara Municipal de Ferira de Santana  ...  attending  2020\n",
              "2           2  Câmara Municipal de Ferira de Santana  ...  attending  2020\n",
              "3           3  Câmara Municipal de Ferira de Santana  ...  attending  2020\n",
              "4           4  Câmara Municipal de Ferira de Santana  ...  attending  2020\n",
              "\n",
              "[5 rows x 12 columns]"
            ]
          },
          "metadata": {},
          "execution_count": 51
        }
      ]
    },
    {
      "cell_type": "markdown",
      "metadata": {
        "id": "LUqOecfqH2CU"
      },
      "source": [
        "## Quem são os vereadores de cada partido a cada ano? "
      ]
    },
    {
      "cell_type": "code",
      "metadata": {
        "colab": {
          "base_uri": "https://localhost:8080/"
        },
        "id": "tP0KihYliput",
        "outputId": "43e69a08-9ef9-4f5e-d7ed-360700d1324b"
      },
      "source": [
        "dados[\"year\"].unique()"
      ],
      "execution_count": 52,
      "outputs": [
        {
          "output_type": "execute_result",
          "data": {
            "text/plain": [
              "array([2020, 2017, 2019, 2021, 2018])"
            ]
          },
          "metadata": {},
          "execution_count": 52
        }
      ]
    },
    {
      "cell_type": "markdown",
      "metadata": {
        "id": "VGHM_xLbiLh7"
      },
      "source": [
        "Total de vereadores na base de dados de 2017-2021"
      ]
    },
    {
      "cell_type": "code",
      "metadata": {
        "colab": {
          "base_uri": "https://localhost:8080/"
        },
        "id": "mUq8CPo8H4aq",
        "outputId": "ae6e73c7-59a3-425b-aa11-84767b56b62c"
      },
      "source": [
        "columns = ['name', 'party', 'year', 'date']\n",
        "dados = df[columns]\n",
        "\n",
        "dados[\"name\"].unique()"
      ],
      "execution_count": null,
      "outputs": [
        {
          "output_type": "execute_result",
          "data": {
            "text/plain": [
              "array(['ALBERTO NERY', 'CADMIEL PEREIRA', 'EDVALDO LIMA', 'ELI RIBEIRO',\n",
              "       'FABIANO DA VAN', 'GERUSA SAMPAIO', 'GILMAR AMORIM',\n",
              "       'ISAÍAS DE DIOGO', 'JOSÉ CARNEIRO', 'LUIZ DA FEIRA', 'LULINHA',\n",
              "       'MARCOS LIMA', 'NEINHA', 'ROBERTO TOURINHO', 'RON DO POVO',\n",
              "       'SGT JOSAFÁ RAMOS', 'ZÉ CURUCA', 'ZÉ FILÉ',\n",
              "       'ANTONIO CARLOS ATAÍDE', 'CÍNTIA MACHADO', 'EREMITA MOTA',\n",
              "       'JOÃO BILILIU', 'JUSTINIANO FRANÇA', 'PABLO ROBERTO', 'PR TOM',\n",
              "       'ROBECI DA VASSOURA', 'RONNY', 'CORREIA ZEZITO', 'EMERSON MINHO',\n",
              "       'FERNANDO TORRES', 'GALEGUINHO SPA', 'JHONATAS MONTEIRO',\n",
              "       'JURANDY CARVALHO', 'LÚ DE RONNY', 'PAULÃO DO CALDEIRÃO',\n",
              "       'PEDRO AMÉRICO', 'PEDRO CICERO', 'PR. VALDEMIR SANTOS',\n",
              "       'PROFESSOR IVAMBERG', 'SILVIO DIAS', 'PETRONIO LIMA'], dtype=object)"
            ]
          },
          "metadata": {},
          "execution_count": 27
        }
      ]
    },
    {
      "cell_type": "markdown",
      "metadata": {
        "id": "-UebFoQwQwCW"
      },
      "source": [
        "#### Houveram quantos vereadores diferentes nos ultimos anos?"
      ]
    },
    {
      "cell_type": "code",
      "metadata": {
        "colab": {
          "base_uri": "https://localhost:8080/"
        },
        "id": "dGT_bSVEK8Qc",
        "outputId": "35972721-0902-48c7-9b71-69b2bcb1a15f"
      },
      "source": [
        "len(dados[\"name\"].unique())"
      ],
      "execution_count": null,
      "outputs": [
        {
          "data": {
            "text/plain": [
              "41"
            ]
          },
          "execution_count": 10,
          "metadata": {},
          "output_type": "execute_result"
        }
      ]
    },
    {
      "cell_type": "markdown",
      "metadata": {
        "id": "cLCEvvuyQ7nA"
      },
      "source": [
        "#### Houveram quantos partidos diferentes nos ultimos anos?"
      ]
    },
    {
      "cell_type": "code",
      "metadata": {
        "colab": {
          "base_uri": "https://localhost:8080/"
        },
        "id": "zGgUzN6aQP8e",
        "outputId": "56064221-f67f-4f36-c999-b6cd3476bb49"
      },
      "source": [
        "dados[\"party\"].unique()"
      ],
      "execution_count": null,
      "outputs": [
        {
          "data": {
            "text/plain": [
              "array(['PT', 'DEM', 'MDB', 'REP', 'PROS', 'PSB', 'PATRI', 'PSD', 'PSDB',\n",
              "       'PHS', 'DC', 'PSOL', 'PL', 'PSC', 'CIDADAN', 'PV'], dtype=object)"
            ]
          },
          "execution_count": 11,
          "metadata": {},
          "output_type": "execute_result"
        }
      ]
    },
    {
      "cell_type": "code",
      "metadata": {
        "colab": {
          "base_uri": "https://localhost:8080/"
        },
        "id": "ZO6IEuWsQSQZ",
        "outputId": "c5dcc4a5-6a2a-465d-fc5a-2a679730a033"
      },
      "source": [
        "len(dados[\"party\"].unique())"
      ],
      "execution_count": null,
      "outputs": [
        {
          "data": {
            "text/plain": [
              "16"
            ]
          },
          "execution_count": 10,
          "metadata": {},
          "output_type": "execute_result"
        }
      ]
    },
    {
      "cell_type": "markdown",
      "metadata": {
        "id": "h7YezvDHPJ4A"
      },
      "source": [
        "#### Para o ano de 2021"
      ]
    },
    {
      "cell_type": "code",
      "metadata": {
        "colab": {
          "base_uri": "https://localhost:8080/"
        },
        "id": "AD_BjhZFOdve",
        "outputId": "e29fb706-26f7-4993-d6c5-c122dcf61b98"
      },
      "source": [
        "vereadores2021 = dados.query(\"year == 2021\")[\"name\"].unique()\n",
        "vereadores2021"
      ],
      "execution_count": 97,
      "outputs": [
        {
          "output_type": "execute_result",
          "data": {
            "text/plain": [
              "array(['CORREIA ZEZITO', 'EDVALDO LIMA', 'ELI RIBEIRO', 'EMERSON MINHO',\n",
              "       'EREMITA MOTA', 'FABIANO DA VAN', 'FERNANDO TORRES',\n",
              "       'GALEGUINHO SPA', 'JHONATAS MONTEIRO', 'JURANDY CARVALHO',\n",
              "       'LÚ DE RONNY', 'LUIZ DA FEIRA', 'LULINHA', 'PAULÃO DO CALDEIRÃO',\n",
              "       'PEDRO AMÉRICO', 'PEDRO CICERO', 'PR. VALDEMIR SANTOS',\n",
              "       'PROFESSOR IVAMBERG', 'RON DO POVO', 'SILVIO DIAS', 'ZÉ CURUCA',\n",
              "       'GERUSA SAMPAIO', 'JOSÉ CARNEIRO', 'PETRONIO LIMA'], dtype=object)"
            ]
          },
          "metadata": {},
          "execution_count": 97
        }
      ]
    },
    {
      "cell_type": "code",
      "metadata": {
        "colab": {
          "base_uri": "https://localhost:8080/"
        },
        "id": "DuEVcBCLjdCe",
        "outputId": "a6671489-c421-4b56-bb5c-c691442472f6"
      },
      "source": [
        "len(dados.query(\"year == 2021\")[\"name\"].unique())"
      ],
      "execution_count": null,
      "outputs": [
        {
          "data": {
            "text/plain": [
              "24"
            ]
          },
          "execution_count": 12,
          "metadata": {},
          "output_type": "execute_result"
        }
      ]
    },
    {
      "cell_type": "code",
      "metadata": {
        "colab": {
          "base_uri": "https://localhost:8080/"
        },
        "id": "oVtnBLd_UiHP",
        "outputId": "5a0ec584-bbdd-4a3e-d4f1-2a590f4b78e5"
      },
      "source": [
        "dados.query(\"year == 2021\")[\"party\"].unique()"
      ],
      "execution_count": null,
      "outputs": [
        {
          "data": {
            "text/plain": [
              "array(['PATRI', 'MDB', 'REP', 'DC', 'PSDB', 'PSD', 'PSB', 'PSOL', 'PL',\n",
              "       'PROS', 'DEM', 'PSC', 'CIDADAN', 'PV', 'PT'], dtype=object)"
            ]
          },
          "execution_count": 13,
          "metadata": {},
          "output_type": "execute_result"
        }
      ]
    },
    {
      "cell_type": "code",
      "metadata": {
        "id": "OQ4G43kXjdwZ"
      },
      "source": [
        "vereadores2021\n",
        "nomes = []\n",
        "\n",
        "for i in vereadores2012:\n",
        "   nomes.append(i)\n",
        "\n",
        "NOMES_AGRUPADA = {'Nome': nomes}\n",
        "nomes2021 = pd.DataFrame(NOMES_AGRUPADA)\n",
        "\n",
        "nomes2021 = nomes2021.sort_values(by='Nome')"
      ],
      "execution_count": 93,
      "outputs": []
    },
    {
      "cell_type": "code",
      "metadata": {
        "id": "kA-zxk-tjW26"
      },
      "source": [
        ""
      ],
      "execution_count": null,
      "outputs": []
    },
    {
      "cell_type": "markdown",
      "metadata": {
        "id": "LCmuYso6oMWS"
      },
      "source": [
        "#### Para todos os anos"
      ]
    },
    {
      "cell_type": "code",
      "metadata": {
        "colab": {
          "base_uri": "https://localhost:8080/"
        },
        "id": "YPYa61a7lD6R",
        "outputId": "59da5a07-f836-40dd-f5e8-6b0d234ce97b"
      },
      "source": [
        "vereadores2021 = np.append(vereadores2021, ['None'])\n",
        "vereadores2021 = np.append(vereadores2021, ['None'])\n",
        "vereadores2021 = np.append(vereadores2021, ['None'])\n",
        "vereadores2021.shape"
      ],
      "execution_count": 98,
      "outputs": [
        {
          "output_type": "execute_result",
          "data": {
            "text/plain": [
              "(27,)"
            ]
          },
          "metadata": {},
          "execution_count": 98
        }
      ]
    },
    {
      "cell_type": "code",
      "metadata": {
        "colab": {
          "base_uri": "https://localhost:8080/",
          "height": 876
        },
        "id": "c_nZmeVjSXZ0",
        "outputId": "ba8127ed-d76b-4097-efd9-00b5f117ff00"
      },
      "source": [
        "dadosAnos = pd.DataFrame()\n",
        "\n",
        "nome = []\n",
        "partido = []\n",
        "\n",
        "dadosAnos['Name2021'] = vereadores2021\n",
        "\n",
        "dados2021 = dados.query(\"year == 2020\")\n",
        "dados2021 = dados2021[['name','party']].groupby(['name','party']).count().sort_values(by=['name'], ascending = True)\n",
        "\n",
        "for n in dados2021.index:\n",
        "  nome.append(n[0])\n",
        "  partido.append(n[1])\n",
        "\n",
        "dadosAnos['Name 2020'] = nome\n",
        "dadosAnos['Partido 2020'] = partido\n",
        "\n",
        "nome = []\n",
        "partido = []\n",
        "\n",
        "dados2020 = dados.query(\"year == 2019\")\n",
        "dados2020 = dados2020[['name','party']].groupby(['name','party']).count().sort_values(by=['name'], ascending = True)\n",
        "\n",
        "for n in dados2020.index:\n",
        "  nome.append(n[0])\n",
        "  partido.append(n[1])\n",
        "\n",
        "dadosAnos['Name 2019'] = nome\n",
        "dadosAnos['Partido 2019'] = partido\n",
        "\n",
        "nome = []\n",
        "partido = []\n",
        "\n",
        "dados2020 = dados.query(\"year == 2018\")\n",
        "dados2020 = dados2020[['name','party']].groupby(['name','party']).count().sort_values(by=['name'], ascending = True)\n",
        "\n",
        "for n in dados2020.index:\n",
        "  nome.append(n[0])\n",
        "  partido.append(n[1])\n",
        "\n",
        "dadosAnos['Name 2018'] = nome\n",
        "dadosAnos['Partido 2028'] = partido\n",
        "\n",
        "nome = []\n",
        "partido = []\n",
        "\n",
        "dados2020 = dados.query(\"year == 2017\")\n",
        "dados2020 = dados2020[['name','party']].groupby(['name','party']).count().sort_values(by=['name'], ascending = True)\n",
        "\n",
        "for n in dados2020.index:\n",
        "  nome.append(n[0])\n",
        "  partido.append(n[1])\n",
        "\n",
        "dadosAnos['Name 2017'] = nome\n",
        "dadosAnos['Partido 2017'] = partido\n",
        "\n",
        "nome = []\n",
        "partido = []\n",
        "\n",
        "dadosAnos"
      ],
      "execution_count": 99,
      "outputs": [
        {
          "output_type": "execute_result",
          "data": {
            "text/html": [
              "<div>\n",
              "<style scoped>\n",
              "    .dataframe tbody tr th:only-of-type {\n",
              "        vertical-align: middle;\n",
              "    }\n",
              "\n",
              "    .dataframe tbody tr th {\n",
              "        vertical-align: top;\n",
              "    }\n",
              "\n",
              "    .dataframe thead th {\n",
              "        text-align: right;\n",
              "    }\n",
              "</style>\n",
              "<table border=\"1\" class=\"dataframe\">\n",
              "  <thead>\n",
              "    <tr style=\"text-align: right;\">\n",
              "      <th></th>\n",
              "      <th>Name2021</th>\n",
              "      <th>Name 2020</th>\n",
              "      <th>Partido 2020</th>\n",
              "      <th>Name 2019</th>\n",
              "      <th>Partido 2019</th>\n",
              "      <th>Name 2018</th>\n",
              "      <th>Partido 2028</th>\n",
              "      <th>Name 2017</th>\n",
              "      <th>Partido 2017</th>\n",
              "    </tr>\n",
              "  </thead>\n",
              "  <tbody>\n",
              "    <tr>\n",
              "      <th>0</th>\n",
              "      <td>CORREIA ZEZITO</td>\n",
              "      <td>ALBERTO NERY</td>\n",
              "      <td>PT</td>\n",
              "      <td>ALBERTO NERY</td>\n",
              "      <td>PT</td>\n",
              "      <td>ALBERTO NERY</td>\n",
              "      <td>PT</td>\n",
              "      <td>ALBERTO NERY</td>\n",
              "      <td>PT</td>\n",
              "    </tr>\n",
              "    <tr>\n",
              "      <th>1</th>\n",
              "      <td>EDVALDO LIMA</td>\n",
              "      <td>ANTONIO CARLOS ATAÍDE</td>\n",
              "      <td>DEM</td>\n",
              "      <td>ANTONIO CARLOS ATAÍDE</td>\n",
              "      <td>DEM</td>\n",
              "      <td>ANTONIO CARLOS ATAÍDE</td>\n",
              "      <td>DEM</td>\n",
              "      <td>ANTONIO CARLOS ATAÍDE</td>\n",
              "      <td>DEM</td>\n",
              "    </tr>\n",
              "    <tr>\n",
              "      <th>2</th>\n",
              "      <td>ELI RIBEIRO</td>\n",
              "      <td>CADMIEL PEREIRA</td>\n",
              "      <td>DEM</td>\n",
              "      <td>CADMIEL PEREIRA</td>\n",
              "      <td>DEM</td>\n",
              "      <td>CADMIEL PEREIRA</td>\n",
              "      <td>DEM</td>\n",
              "      <td>CADMIEL PEREIRA</td>\n",
              "      <td>DEM</td>\n",
              "    </tr>\n",
              "    <tr>\n",
              "      <th>3</th>\n",
              "      <td>EMERSON MINHO</td>\n",
              "      <td>CÍNTIA MACHADO</td>\n",
              "      <td>REP</td>\n",
              "      <td>CÍNTIA MACHADO</td>\n",
              "      <td>REP</td>\n",
              "      <td>CÍNTIA MACHADO</td>\n",
              "      <td>REP</td>\n",
              "      <td>CÍNTIA MACHADO</td>\n",
              "      <td>REP</td>\n",
              "    </tr>\n",
              "    <tr>\n",
              "      <th>4</th>\n",
              "      <td>EREMITA MOTA</td>\n",
              "      <td>EDVALDO LIMA</td>\n",
              "      <td>MDB</td>\n",
              "      <td>EDVALDO LIMA</td>\n",
              "      <td>MDB</td>\n",
              "      <td>EDVALDO LIMA</td>\n",
              "      <td>MDB</td>\n",
              "      <td>EDVALDO LIMA</td>\n",
              "      <td>MDB</td>\n",
              "    </tr>\n",
              "    <tr>\n",
              "      <th>5</th>\n",
              "      <td>FABIANO DA VAN</td>\n",
              "      <td>ELI RIBEIRO</td>\n",
              "      <td>REP</td>\n",
              "      <td>ELI RIBEIRO</td>\n",
              "      <td>REP</td>\n",
              "      <td>ELI RIBEIRO</td>\n",
              "      <td>REP</td>\n",
              "      <td>ELI RIBEIRO</td>\n",
              "      <td>REP</td>\n",
              "    </tr>\n",
              "    <tr>\n",
              "      <th>6</th>\n",
              "      <td>FERNANDO TORRES</td>\n",
              "      <td>EREMITA MOTA</td>\n",
              "      <td>PSDB</td>\n",
              "      <td>EREMITA MOTA</td>\n",
              "      <td>PSDB</td>\n",
              "      <td>EREMITA MOTA</td>\n",
              "      <td>PSDB</td>\n",
              "      <td>EREMITA MOTA</td>\n",
              "      <td>PSDB</td>\n",
              "    </tr>\n",
              "    <tr>\n",
              "      <th>7</th>\n",
              "      <td>GALEGUINHO SPA</td>\n",
              "      <td>FABIANO DA VAN</td>\n",
              "      <td>MDB</td>\n",
              "      <td>FABIANO DA VAN</td>\n",
              "      <td>MDB</td>\n",
              "      <td>FABIANO DA VAN</td>\n",
              "      <td>MDB</td>\n",
              "      <td>FABIANO DA VAN</td>\n",
              "      <td>MDB</td>\n",
              "    </tr>\n",
              "    <tr>\n",
              "      <th>8</th>\n",
              "      <td>JHONATAS MONTEIRO</td>\n",
              "      <td>GERUSA SAMPAIO</td>\n",
              "      <td>DEM</td>\n",
              "      <td>GERUSA SAMPAIO</td>\n",
              "      <td>DEM</td>\n",
              "      <td>GERUSA SAMPAIO</td>\n",
              "      <td>DEM</td>\n",
              "      <td>GERUSA SAMPAIO</td>\n",
              "      <td>DEM</td>\n",
              "    </tr>\n",
              "    <tr>\n",
              "      <th>9</th>\n",
              "      <td>JURANDY CARVALHO</td>\n",
              "      <td>GILMAR AMORIM</td>\n",
              "      <td>MDB</td>\n",
              "      <td>GILMAR AMORIM</td>\n",
              "      <td>MDB</td>\n",
              "      <td>GILMAR AMORIM</td>\n",
              "      <td>MDB</td>\n",
              "      <td>GILMAR AMORIM</td>\n",
              "      <td>MDB</td>\n",
              "    </tr>\n",
              "    <tr>\n",
              "      <th>10</th>\n",
              "      <td>LÚ DE RONNY</td>\n",
              "      <td>ISAÍAS DE DIOGO</td>\n",
              "      <td>MDB</td>\n",
              "      <td>ISAÍAS DE DIOGO</td>\n",
              "      <td>MDB</td>\n",
              "      <td>ISAÍAS DE DIOGO</td>\n",
              "      <td>MDB</td>\n",
              "      <td>ISAÍAS DE DIOGO</td>\n",
              "      <td>MDB</td>\n",
              "    </tr>\n",
              "    <tr>\n",
              "      <th>11</th>\n",
              "      <td>LUIZ DA FEIRA</td>\n",
              "      <td>JOSÉ CARNEIRO</td>\n",
              "      <td>MDB</td>\n",
              "      <td>JOSÉ CARNEIRO</td>\n",
              "      <td>MDB</td>\n",
              "      <td>JOSÉ CARNEIRO</td>\n",
              "      <td>MDB</td>\n",
              "      <td>JOSÉ CARNEIRO</td>\n",
              "      <td>MDB</td>\n",
              "    </tr>\n",
              "    <tr>\n",
              "      <th>12</th>\n",
              "      <td>LULINHA</td>\n",
              "      <td>JOÃO BILILIU</td>\n",
              "      <td>PSD</td>\n",
              "      <td>JOÃO BILILIU</td>\n",
              "      <td>PSD</td>\n",
              "      <td>JOÃO BILILIU</td>\n",
              "      <td>PSD</td>\n",
              "      <td>JOÃO BILILIU</td>\n",
              "      <td>PSD</td>\n",
              "    </tr>\n",
              "    <tr>\n",
              "      <th>13</th>\n",
              "      <td>PAULÃO DO CALDEIRÃO</td>\n",
              "      <td>JUSTINIANO FRANÇA</td>\n",
              "      <td>DEM</td>\n",
              "      <td>JUSTINIANO FRANÇA</td>\n",
              "      <td>DEM</td>\n",
              "      <td>JUSTINIANO FRANÇA</td>\n",
              "      <td>DEM</td>\n",
              "      <td>JUSTINIANO FRANÇA</td>\n",
              "      <td>DEM</td>\n",
              "    </tr>\n",
              "    <tr>\n",
              "      <th>14</th>\n",
              "      <td>PEDRO AMÉRICO</td>\n",
              "      <td>LUIZ DA FEIRA</td>\n",
              "      <td>PROS</td>\n",
              "      <td>LUIZ DA FEIRA</td>\n",
              "      <td>PROS</td>\n",
              "      <td>LUIZ DA FEIRA</td>\n",
              "      <td>PROS</td>\n",
              "      <td>LUIZ DA FEIRA</td>\n",
              "      <td>PROS</td>\n",
              "    </tr>\n",
              "    <tr>\n",
              "      <th>15</th>\n",
              "      <td>PEDRO CICERO</td>\n",
              "      <td>LULINHA</td>\n",
              "      <td>DEM</td>\n",
              "      <td>LULINHA</td>\n",
              "      <td>DEM</td>\n",
              "      <td>LULINHA</td>\n",
              "      <td>DEM</td>\n",
              "      <td>LULINHA</td>\n",
              "      <td>DEM</td>\n",
              "    </tr>\n",
              "    <tr>\n",
              "      <th>16</th>\n",
              "      <td>PR. VALDEMIR SANTOS</td>\n",
              "      <td>MARCOS LIMA</td>\n",
              "      <td>DEM</td>\n",
              "      <td>MARCOS LIMA</td>\n",
              "      <td>DEM</td>\n",
              "      <td>MARCOS LIMA</td>\n",
              "      <td>DEM</td>\n",
              "      <td>MARCOS LIMA</td>\n",
              "      <td>DEM</td>\n",
              "    </tr>\n",
              "    <tr>\n",
              "      <th>17</th>\n",
              "      <td>PROFESSOR IVAMBERG</td>\n",
              "      <td>NEINHA</td>\n",
              "      <td>DEM</td>\n",
              "      <td>NEINHA</td>\n",
              "      <td>DEM</td>\n",
              "      <td>NEINHA</td>\n",
              "      <td>DEM</td>\n",
              "      <td>NEINHA</td>\n",
              "      <td>DEM</td>\n",
              "    </tr>\n",
              "    <tr>\n",
              "      <th>18</th>\n",
              "      <td>RON DO POVO</td>\n",
              "      <td>PABLO ROBERTO</td>\n",
              "      <td>DEM</td>\n",
              "      <td>PABLO ROBERTO</td>\n",
              "      <td>DEM</td>\n",
              "      <td>PABLO ROBERTO</td>\n",
              "      <td>DEM</td>\n",
              "      <td>PABLO ROBERTO</td>\n",
              "      <td>DEM</td>\n",
              "    </tr>\n",
              "    <tr>\n",
              "      <th>19</th>\n",
              "      <td>SILVIO DIAS</td>\n",
              "      <td>PR TOM</td>\n",
              "      <td>PATRI</td>\n",
              "      <td>PR TOM</td>\n",
              "      <td>PATRI</td>\n",
              "      <td>PR TOM</td>\n",
              "      <td>PATRI</td>\n",
              "      <td>PR TOM</td>\n",
              "      <td>PATRI</td>\n",
              "    </tr>\n",
              "    <tr>\n",
              "      <th>20</th>\n",
              "      <td>ZÉ CURUCA</td>\n",
              "      <td>ROBECI DA VASSOURA</td>\n",
              "      <td>PHS</td>\n",
              "      <td>ROBECI DA VASSOURA</td>\n",
              "      <td>PHS</td>\n",
              "      <td>ROBECI DA VASSOURA</td>\n",
              "      <td>PHS</td>\n",
              "      <td>ROBECI DA VASSOURA</td>\n",
              "      <td>PHS</td>\n",
              "    </tr>\n",
              "    <tr>\n",
              "      <th>21</th>\n",
              "      <td>GERUSA SAMPAIO</td>\n",
              "      <td>ROBERTO TOURINHO</td>\n",
              "      <td>PSB</td>\n",
              "      <td>ROBERTO TOURINHO</td>\n",
              "      <td>PSB</td>\n",
              "      <td>ROBERTO TOURINHO</td>\n",
              "      <td>PSB</td>\n",
              "      <td>ROBERTO TOURINHO</td>\n",
              "      <td>PSB</td>\n",
              "    </tr>\n",
              "    <tr>\n",
              "      <th>22</th>\n",
              "      <td>JOSÉ CARNEIRO</td>\n",
              "      <td>RON DO POVO</td>\n",
              "      <td>MDB</td>\n",
              "      <td>RON DO POVO</td>\n",
              "      <td>MDB</td>\n",
              "      <td>RON DO POVO</td>\n",
              "      <td>MDB</td>\n",
              "      <td>RON DO POVO</td>\n",
              "      <td>MDB</td>\n",
              "    </tr>\n",
              "    <tr>\n",
              "      <th>23</th>\n",
              "      <td>PETRONIO LIMA</td>\n",
              "      <td>RONNY</td>\n",
              "      <td>PHS</td>\n",
              "      <td>RONNY</td>\n",
              "      <td>PHS</td>\n",
              "      <td>RONNY</td>\n",
              "      <td>PHS</td>\n",
              "      <td>RONNY</td>\n",
              "      <td>PHS</td>\n",
              "    </tr>\n",
              "    <tr>\n",
              "      <th>24</th>\n",
              "      <td>None</td>\n",
              "      <td>SGT JOSAFÁ RAMOS</td>\n",
              "      <td>PATRI</td>\n",
              "      <td>SGT JOSAFÁ RAMOS</td>\n",
              "      <td>PATRI</td>\n",
              "      <td>SGT JOSAFÁ RAMOS</td>\n",
              "      <td>PATRI</td>\n",
              "      <td>SGT JOSAFÁ RAMOS</td>\n",
              "      <td>PATRI</td>\n",
              "    </tr>\n",
              "    <tr>\n",
              "      <th>25</th>\n",
              "      <td>None</td>\n",
              "      <td>ZÉ CURUCA</td>\n",
              "      <td>DEM</td>\n",
              "      <td>ZÉ CURUCA</td>\n",
              "      <td>DEM</td>\n",
              "      <td>ZÉ CURUCA</td>\n",
              "      <td>DEM</td>\n",
              "      <td>ZÉ CURUCA</td>\n",
              "      <td>DEM</td>\n",
              "    </tr>\n",
              "    <tr>\n",
              "      <th>26</th>\n",
              "      <td>None</td>\n",
              "      <td>ZÉ FILÉ</td>\n",
              "      <td>PSD</td>\n",
              "      <td>ZÉ FILÉ</td>\n",
              "      <td>PSD</td>\n",
              "      <td>ZÉ FILÉ</td>\n",
              "      <td>PSD</td>\n",
              "      <td>ZÉ FILÉ</td>\n",
              "      <td>PSD</td>\n",
              "    </tr>\n",
              "  </tbody>\n",
              "</table>\n",
              "</div>"
            ],
            "text/plain": [
              "               Name2021  ... Partido 2017\n",
              "0        CORREIA ZEZITO  ...           PT\n",
              "1          EDVALDO LIMA  ...          DEM\n",
              "2           ELI RIBEIRO  ...          DEM\n",
              "3         EMERSON MINHO  ...          REP\n",
              "4          EREMITA MOTA  ...          MDB\n",
              "5        FABIANO DA VAN  ...          REP\n",
              "6       FERNANDO TORRES  ...         PSDB\n",
              "7        GALEGUINHO SPA  ...          MDB\n",
              "8     JHONATAS MONTEIRO  ...          DEM\n",
              "9      JURANDY CARVALHO  ...          MDB\n",
              "10          LÚ DE RONNY  ...          MDB\n",
              "11        LUIZ DA FEIRA  ...          MDB\n",
              "12              LULINHA  ...          PSD\n",
              "13  PAULÃO DO CALDEIRÃO  ...          DEM\n",
              "14        PEDRO AMÉRICO  ...         PROS\n",
              "15         PEDRO CICERO  ...          DEM\n",
              "16  PR. VALDEMIR SANTOS  ...          DEM\n",
              "17   PROFESSOR IVAMBERG  ...          DEM\n",
              "18          RON DO POVO  ...          DEM\n",
              "19          SILVIO DIAS  ...        PATRI\n",
              "20            ZÉ CURUCA  ...          PHS\n",
              "21       GERUSA SAMPAIO  ...          PSB\n",
              "22        JOSÉ CARNEIRO  ...          MDB\n",
              "23        PETRONIO LIMA  ...          PHS\n",
              "24                 None  ...        PATRI\n",
              "25                 None  ...          DEM\n",
              "26                 None  ...          PSD\n",
              "\n",
              "[27 rows x 9 columns]"
            ]
          },
          "metadata": {},
          "execution_count": 99
        }
      ]
    },
    {
      "cell_type": "markdown",
      "metadata": {
        "id": "EvasJMjbnEu8"
      },
      "source": [
        "Podemos observar que houveram algumas mudanças em relação ao quadro de vereadores após as eleições de 2020, mas alguns nomes se mantem, ou seja, foram reeleitos, como Edvaldo Lima, Eli RIbeiro, Eremito Mota, Fabiano da Van, mas no Geral, podese observar que a maior parte do quadro dos vereadores foi renovada."
      ]
    },
    {
      "cell_type": "markdown",
      "metadata": {
        "id": "S_eZrPSQoyoi"
      },
      "source": [
        "## Quem são os vereadores com maior quantidade (absoluta e relativa) de presenças, ausências e faltas justificadas a cada ano?"
      ]
    },
    {
      "cell_type": "code",
      "metadata": {
        "colab": {
          "base_uri": "https://localhost:8080/",
          "height": 80
        },
        "id": "15LRLIxTqaDu",
        "outputId": "09800e3b-7209-4f0c-9852-1d6edf1a6923"
      },
      "source": [
        "df.head(1)"
      ],
      "execution_count": null,
      "outputs": [
        {
          "data": {
            "text/html": [
              "<div>\n",
              "<style scoped>\n",
              "    .dataframe tbody tr th:only-of-type {\n",
              "        vertical-align: middle;\n",
              "    }\n",
              "\n",
              "    .dataframe tbody tr th {\n",
              "        vertical-align: top;\n",
              "    }\n",
              "\n",
              "    .dataframe thead th {\n",
              "        text-align: right;\n",
              "    }\n",
              "</style>\n",
              "<table border=\"1\" class=\"dataframe\">\n",
              "  <thead>\n",
              "    <tr style=\"text-align: right;\">\n",
              "      <th></th>\n",
              "      <th>Unnamed: 0</th>\n",
              "      <th>agency</th>\n",
              "      <th>report</th>\n",
              "      <th>session</th>\n",
              "      <th>date</th>\n",
              "      <th>report_generated_by</th>\n",
              "      <th>report_generated_at</th>\n",
              "      <th>name</th>\n",
              "      <th>party</th>\n",
              "      <th>text</th>\n",
              "      <th>attendance</th>\n",
              "      <th>year</th>\n",
              "    </tr>\n",
              "  </thead>\n",
              "  <tbody>\n",
              "    <tr>\n",
              "      <th>0</th>\n",
              "      <td>0</td>\n",
              "      <td>Câmara Municipal de Ferira de Santana</td>\n",
              "      <td>Relatório de Presenças por Reunião</td>\n",
              "      <td>35ª SESSÃO ORDINÁRIA</td>\n",
              "      <td>2020-06-01</td>\n",
              "      <td>Yago Shamady</td>\n",
              "      <td>03/06/2020 10:59</td>\n",
              "      <td>ALBERTO NERY</td>\n",
              "      <td>PT</td>\n",
              "      <td>NaN</td>\n",
              "      <td>attending</td>\n",
              "      <td>2020</td>\n",
              "    </tr>\n",
              "  </tbody>\n",
              "</table>\n",
              "</div>"
            ],
            "text/plain": [
              "   Unnamed: 0                                 agency  ... attendance  year\n",
              "0           0  Câmara Municipal de Ferira de Santana  ...  attending  2020\n",
              "\n",
              "[1 rows x 12 columns]"
            ]
          },
          "execution_count": 8,
          "metadata": {},
          "output_type": "execute_result"
        }
      ]
    },
    {
      "cell_type": "code",
      "metadata": {
        "colab": {
          "base_uri": "https://localhost:8080/"
        },
        "id": "IVm4vn_ys7sq",
        "outputId": "165fc33f-e139-4de1-b16c-d3df1e47f04c"
      },
      "source": [
        "df[\"attendance\"].unique()"
      ],
      "execution_count": null,
      "outputs": [
        {
          "data": {
            "text/plain": [
              "array(['attending', 'justified', 'absent'], dtype=object)"
            ]
          },
          "execution_count": 203,
          "metadata": {},
          "output_type": "execute_result"
        }
      ]
    },
    {
      "cell_type": "code",
      "metadata": {
        "id": "mxg0dISao-kB"
      },
      "source": [
        "attend = df[ df['attendance'] == 'attending']\n",
        "absent = df[ df['attendance'] == 'absent']\n",
        "justify = df[ df['attendance'] == 'justified']"
      ],
      "execution_count": null,
      "outputs": []
    },
    {
      "cell_type": "code",
      "metadata": {
        "id": "6hJ4EgTqqH6c"
      },
      "source": [
        "attend2020 = attend[attend['year'] == 2020]\n",
        "absent2020 = absent[absent['year'] == 2020]\n",
        "justify2020 = justify[justify['year'] == 2020]"
      ],
      "execution_count": null,
      "outputs": []
    },
    {
      "cell_type": "code",
      "metadata": {
        "colab": {
          "base_uri": "https://localhost:8080/"
        },
        "id": "p98WO9d2sgRR",
        "outputId": "da697afd-aa67-4cd1-f447-8b4fc4843a34"
      },
      "source": [
        "attend2020[\"name\"].unique()"
      ],
      "execution_count": null,
      "outputs": [
        {
          "data": {
            "text/plain": [
              "array(['ELI RIBEIRO', 'FABIANO DA VAN', 'MARCOS LIMA', 'NEINHA',\n",
              "       'ZÉ CURUCA', 'RON DO POVO', 'GILMAR AMORIM', 'ROBECI DA VASSOURA',\n",
              "       'ALBERTO NERY', 'ANTONIO CARLOS ATAÍDE', 'CADMIEL PEREIRA',\n",
              "       'EDVALDO LIMA', 'ISAÍAS DE DIOGO', 'JOÃO BILILIU', 'LUIZ DA FEIRA',\n",
              "       'LULINHA', 'ROBERTO TOURINHO', 'ZÉ FILÉ'], dtype=object)"
            ]
          },
          "execution_count": 202,
          "metadata": {},
          "output_type": "execute_result"
        }
      ]
    },
    {
      "cell_type": "code",
      "metadata": {
        "colab": {
          "base_uri": "https://localhost:8080/"
        },
        "id": "lgJjBbs6qPMC",
        "outputId": "5772eb68-136e-43cf-d35a-db193d2af590"
      },
      "source": [
        "len(attend2020[\"name\"].unique())"
      ],
      "execution_count": null,
      "outputs": [
        {
          "data": {
            "text/plain": [
              "18"
            ]
          },
          "execution_count": 201,
          "metadata": {},
          "output_type": "execute_result"
        }
      ]
    },
    {
      "cell_type": "code",
      "metadata": {
        "colab": {
          "base_uri": "https://localhost:8080/"
        },
        "id": "jViXmVd5tIhx",
        "outputId": "4debc328-25a3-46f3-c81c-1b4dcd452eaa"
      },
      "source": [
        "len(absent2020[\"name\"].unique())"
      ],
      "execution_count": null,
      "outputs": [
        {
          "data": {
            "text/plain": [
              "18"
            ]
          },
          "execution_count": 206,
          "metadata": {},
          "output_type": "execute_result"
        }
      ]
    },
    {
      "cell_type": "code",
      "metadata": {
        "colab": {
          "base_uri": "https://localhost:8080/"
        },
        "id": "viIIej1oti8J",
        "outputId": "b3704aea-c2ab-480c-8b40-2c5b928939e7"
      },
      "source": [
        "attend2020.name.value_counts()"
      ],
      "execution_count": null,
      "outputs": [
        {
          "data": {
            "text/plain": [
              "JOSÉ CARNEIRO            96\n",
              "ZÉ FILÉ                  95\n",
              "LULINHA                  95\n",
              "CADMIEL PEREIRA          95\n",
              "MARCOS LIMA              93\n",
              "ISAÍAS DE DIOGO          93\n",
              "GILMAR AMORIM            93\n",
              "ROBERTO TOURINHO         92\n",
              "FABIANO DA VAN           91\n",
              "GERUSA SAMPAIO           91\n",
              "ZÉ CURUCA                90\n",
              "LUIZ DA FEIRA            90\n",
              "RON DO POVO              87\n",
              "EDVALDO LIMA             86\n",
              "ELI RIBEIRO              83\n",
              "NEINHA                   83\n",
              "ALBERTO NERY             83\n",
              "ANTONIO CARLOS ATAÍDE    81\n",
              "JOÃO BILILIU             76\n",
              "EREMITA MOTA             63\n",
              "SGT JOSAFÁ RAMOS         57\n",
              "ROBECI DA VASSOURA       25\n",
              "JUSTINIANO FRANÇA        10\n",
              "CÍNTIA MACHADO            9\n",
              "PABLO ROBERTO             7\n",
              "Name: name, dtype: int64"
            ]
          },
          "execution_count": 216,
          "metadata": {},
          "output_type": "execute_result"
        }
      ]
    },
    {
      "cell_type": "code",
      "metadata": {
        "colab": {
          "base_uri": "https://localhost:8080/"
        },
        "id": "S44DpX1IuiLU",
        "outputId": "cfa3fe44-3716-46ce-abaa-bea708681255"
      },
      "source": [
        "attend2020.party.value_counts()"
      ],
      "execution_count": null,
      "outputs": [
        {
          "data": {
            "text/plain": [
              "DEM      645\n",
              "MDB      546\n",
              "PSD      171\n",
              "REP       92\n",
              "PSB       92\n",
              "PROS      90\n",
              "PT        83\n",
              "PSDB      63\n",
              "PATRI     57\n",
              "PHS       25\n",
              "Name: party, dtype: int64"
            ]
          },
          "execution_count": 218,
          "metadata": {},
          "output_type": "execute_result"
        }
      ]
    },
    {
      "cell_type": "code",
      "metadata": {
        "colab": {
          "base_uri": "https://localhost:8080/"
        },
        "id": "2zuB56hXuaOb",
        "outputId": "ba64b674-79cd-4fd3-8ec3-030314d66f4b"
      },
      "source": [
        "absent2020.name.value_counts()"
      ],
      "execution_count": null,
      "outputs": [
        {
          "data": {
            "text/plain": [
              "RON DO POVO              9\n",
              "NEINHA                   7\n",
              "ZÉ CURUCA                6\n",
              "FABIANO DA VAN           5\n",
              "ROBERTO TOURINHO         4\n",
              "MARCOS LIMA              3\n",
              "GILMAR AMORIM            3\n",
              "ELI RIBEIRO              3\n",
              "ROBECI DA VASSOURA       2\n",
              "ZÉ FILÉ                  1\n",
              "ALBERTO NERY             1\n",
              "JOÃO BILILIU             1\n",
              "ANTONIO CARLOS ATAÍDE    1\n",
              "CADMIEL PEREIRA          1\n",
              "LULINHA                  1\n",
              "LUIZ DA FEIRA            1\n",
              "EDVALDO LIMA             1\n",
              "ISAÍAS DE DIOGO          1\n",
              "Name: name, dtype: int64"
            ]
          },
          "execution_count": 217,
          "metadata": {},
          "output_type": "execute_result"
        }
      ]
    },
    {
      "cell_type": "code",
      "metadata": {
        "colab": {
          "base_uri": "https://localhost:8080/"
        },
        "id": "KILWfA30upRC",
        "outputId": "f10ed8c2-3da7-4c6f-ee5d-05233a015194"
      },
      "source": [
        "absent2020.party.value_counts()"
      ],
      "execution_count": null,
      "outputs": [
        {
          "data": {
            "text/plain": [
              "MDB     19\n",
              "DEM     19\n",
              "PSB      4\n",
              "REP      3\n",
              "PSD      2\n",
              "PHS      2\n",
              "PROS     1\n",
              "PT       1\n",
              "Name: party, dtype: int64"
            ]
          },
          "execution_count": 219,
          "metadata": {},
          "output_type": "execute_result"
        }
      ]
    },
    {
      "cell_type": "markdown",
      "metadata": {
        "id": "uqy8bnQyn5ha"
      },
      "source": [
        "Pode-se observar no quadro de presença dos vereadores, alguns nomes apresentaram uma quantidade de presenças muito baixa, se comparado com a maioria. É possível que este acontecimento tenha relação com algum afastamento ou direcionamento do vereador para alguma outra função e a partir de então um suplente assumiu sua função. É possível também que as pessoas com uma baixa taxa de presença seja um suplente que assumiu tardiamente e com isso teve um período curto do mandato."
      ]
    },
    {
      "cell_type": "markdown",
      "metadata": {
        "id": "4dab3RZfJE9N"
      },
      "source": [
        "## Escolha 3 vereadores, determine a quantidade de presenças, a quantidade de ausências e a quantidade de faltas justificadas de cada vereador a cada mês de cada ano"
      ]
    },
    {
      "cell_type": "code",
      "metadata": {
        "id": "_bd48F2pJDfE"
      },
      "source": [
        "colunas = [\"attendance\", \"date\"]\n",
        "\n",
        "NEINHA = df[ df['name'] == 'NEINHA']\n",
        "#NEINHA = NEINHA[colunas]\n",
        "\n",
        "LULINHA = df[ df['name'] == 'LULINHA']\n",
        "JOSE_CARNEIRO = df[ df['name'] == 'JOSÉ CARNEIRO']"
      ],
      "execution_count": 103,
      "outputs": []
    },
    {
      "cell_type": "code",
      "metadata": {
        "id": "U0P0_CIXI-2n"
      },
      "source": [
        "NEINHA_PRESENCA = NEINHA[NEINHA['attendance'] == 'attending']\n",
        "NEINHA_AUSENCIA = NEINHA[NEINHA['attendance'] == 'absent']\n",
        "NEINHA_JUSTIFICADO = NEINHA[NEINHA['attendance'] == 'justified']\n",
        "\n",
        "LULINHA_PRESENCA = LULINHA[LULINHA['attendance'] == 'attending']\n",
        "LULINHA_AUSENCIA = LULINHA[LULINHA['attendance'] == 'absent']\n",
        "LULINHA_JUSTIFICADO = LULINHA[LULINHA['attendance'] == 'justified']\n",
        "\n",
        "JOSE_CARNEIRO_PRESENCA = JOSE_CARNEIRO[JOSE_CARNEIRO['attendance'] == 'attending']\n",
        "JOSE_CARNEIRO_AUSENCIA = JOSE_CARNEIRO[JOSE_CARNEIRO['attendance'] == 'absent']\n",
        "JOSE_CARNEIRO_JUSTIFICADO = JOSE_CARNEIRO[JOSE_CARNEIRO['attendance'] == 'justified']"
      ],
      "execution_count": 104,
      "outputs": []
    },
    {
      "cell_type": "code",
      "metadata": {
        "id": "C47ZJQWZmOKN"
      },
      "source": [
        "#NEINHA_ORD = pd.concat([NEINHA_PRESENCA, NEINHA_AUSENCIA, NEINHA_JUSTIFICADO], axis=1)\n",
        "#NEINHA_ORD"
      ],
      "execution_count": null,
      "outputs": []
    },
    {
      "cell_type": "markdown",
      "metadata": {
        "id": "uUJxOscCMXNI"
      },
      "source": [
        "#### Ausências, presenças e faltas justificadas no total"
      ]
    },
    {
      "cell_type": "code",
      "metadata": {
        "colab": {
          "base_uri": "https://localhost:8080/"
        },
        "id": "uc8kFRpuKTN9",
        "outputId": "73ee08bc-cc10-4ba5-846e-f511ec1629e8"
      },
      "source": [
        "NEINHA_AUSENCIA.name.value_counts(), NEINHA_PRESENCA.name.value_counts(), NEINHA_JUSTIFICADO.name.value_counts()"
      ],
      "execution_count": null,
      "outputs": [
        {
          "data": {
            "text/plain": [
              "(NEINHA    170\n",
              " Name: name, dtype: int64, NEINHA    360\n",
              " Name: name, dtype: int64, NEINHA    24\n",
              " Name: name, dtype: int64)"
            ]
          },
          "execution_count": 39,
          "metadata": {},
          "output_type": "execute_result"
        }
      ]
    },
    {
      "cell_type": "code",
      "metadata": {
        "colab": {
          "base_uri": "https://localhost:8080/"
        },
        "id": "ohJeVBPlWDoq",
        "outputId": "b0d32e0b-39cd-4eb1-f3ce-b8508e62b7ac"
      },
      "source": [
        "LULINHA_AUSENCIA.name.value_counts(), LULINHA_PRESENCA.name.value_counts(), LULINHA_JUSTIFICADO.name.value_counts()"
      ],
      "execution_count": null,
      "outputs": [
        {
          "data": {
            "text/plain": [
              "(LULINHA    102\n",
              " Name: name, dtype: int64, LULINHA    459\n",
              " Name: name, dtype: int64, LULINHA    1\n",
              " Name: name, dtype: int64)"
            ]
          },
          "execution_count": 27,
          "metadata": {},
          "output_type": "execute_result"
        }
      ]
    },
    {
      "cell_type": "code",
      "metadata": {
        "colab": {
          "base_uri": "https://localhost:8080/"
        },
        "id": "UsgVg802m1ex",
        "outputId": "f68ee526-a951-431a-c0d4-0ab08a0fc469"
      },
      "source": [
        "JOSE_CARNEIRO_AUSENCIA.name.value_counts(), JOSE_CARNEIRO_PRESENCA.name.value_counts(), JOSE_CARNEIRO_JUSTIFICADO.name.value_counts()"
      ],
      "execution_count": null,
      "outputs": [
        {
          "data": {
            "text/plain": [
              "(JOSÉ CARNEIRO    43\n",
              " Name: name, dtype: int64, JOSÉ CARNEIRO    510\n",
              " Name: name, dtype: int64, JOSÉ CARNEIRO    11\n",
              " Name: name, dtype: int64)"
            ]
          },
          "execution_count": 28,
          "metadata": {},
          "output_type": "execute_result"
        }
      ]
    },
    {
      "cell_type": "code",
      "metadata": {
        "id": "awLghr0tw1PO"
      },
      "source": [
        "period = [                                                                             'August2017', 'September2017', 'October2017', 'November2017', 'December2017', \n",
        "                        'February2018', 'March2018', 'April2018', 'May2018', 'June2018', 'July2018', 'August2018', 'September2018', 'October2018', 'November2018', 'December2018',\n",
        "          'January2019', 'February2019', 'March2019', 'April2019', 'May2019', 'June2019',         'August2019', 'September2019', 'October2019', 'November2019', 'December2019',\n",
        "                         'February2020', 'March2020', 'April2020', 'May2020', 'June2020',        'August2020', 'September2020', 'October2020', 'November2020', 'December2020',\n",
        "                          'February2021', 'February2021']"
      ],
      "execution_count": null,
      "outputs": []
    },
    {
      "cell_type": "markdown",
      "metadata": {
        "id": "OPPQwGKGn98q"
      },
      "source": [
        "#### Relação das presenças dos três vereadores ao longo do mandato"
      ]
    },
    {
      "cell_type": "code",
      "metadata": {
        "id": "32jHUhC_cPgQ",
        "colab": {
          "base_uri": "https://localhost:8080/",
          "height": 1000
        },
        "outputId": "faf7c20a-ca63-4329-bc2d-2fe19c26f98a"
      },
      "source": [
        "DataJ = JOSE_CARNEIRO_PRESENCA[['date', 'attendance']]\n",
        "DataJ = DataJ.groupby(DataJ[\"date\"].dt.strftime('%B%Y'))['attendance'].value_counts()\n",
        "\n",
        "mes = []\n",
        "presenca = []\n",
        "\n",
        "for i in DataJ.items():\n",
        "\n",
        "    mes.append(i[0][0])\n",
        "    presenca.append(i[1])\n",
        "\n",
        "PRESENCA_AGRUPADA = {'Mes': mes, 'Presenca': presenca}\n",
        "DataJ = pd.DataFrame(data=PRESENCA_AGRUPADA)\n",
        "\n",
        "DataJ['Date'] = pd.to_datetime(DataJ.Mes)\n",
        "DataJ = DataJ.sort_values('Date')\n",
        "DataJ = DataJ.sort_values(by='Date')\n",
        "\n",
        "DataJ = DataJ[['Presenca', 'Date']]\n",
        "\n",
        "presenca_j = DataJ['Presenca']\n",
        "data_j = DataJ['Date']\n",
        "\n",
        "time_j = []\n",
        "for i in DataJ['Date']:\n",
        "  time_j.append(i.strftime(\"%m/%Y\"))\n",
        "\n",
        "plt.figure(figsize=(40,10))\n",
        "plt.title('Quantidade de presenças do Vereador José Carneiro no periodo de 2017-2021')\n",
        "plt.bar(time_j, DataJ['Presenca'].to_numpy())\n",
        "plt.show()\n",
        "\n",
        "######\n",
        "\n",
        "DataN = NEINHA_PRESENCA[['date', 'attendance']]\n",
        "DataN = DataN.groupby(DataN[\"date\"].dt.strftime('%B%Y'))['attendance'].value_counts()\n",
        "\n",
        "mes = []\n",
        "presenca = []\n",
        "\n",
        "for i in DataN.items():\n",
        "\n",
        "    mes.append(i[0][0])\n",
        "    presenca.append(i[1])\n",
        "\n",
        "PRESENCA_AGRUPADA = {'Mes': mes, 'Presenca': presenca}\n",
        "DataN = pd.DataFrame(data=PRESENCA_AGRUPADA)\n",
        "\n",
        "DataN['Date'] = pd.to_datetime(DataN.Mes)\n",
        "DataN = DataN.sort_values('Date')\n",
        "DataN = DataN.sort_values(by='Date')\n",
        "\n",
        "DataN = DataN[['Presenca', 'Date']]\n",
        "\n",
        "time_n = []\n",
        "for i in DataN['Date']:\n",
        "  time_n.append(i.strftime(\"%m/%Y\"))\n",
        "\n",
        "plt.figure(figsize=(40,10))\n",
        "plt.title('Quantidade de presenças da Vereadora Neinha no periodo de 2017-2021')\n",
        "plt.bar(time_n, DataN['Presenca'].to_numpy())\n",
        "plt.show()\n",
        "\n",
        "######\n",
        "\n",
        "DataL = LULINHA_PRESENCA[['date', 'attendance']]\n",
        "DataL = DataL.groupby(DataL[\"date\"].dt.strftime('%B%Y'))['attendance'].value_counts()\n",
        "\n",
        "mes = []\n",
        "presenca = []\n",
        "\n",
        "for i in DataL.items():\n",
        "\n",
        "    mes.append(i[0][0])\n",
        "    presenca.append(i[1])\n",
        "\n",
        "PRESENCA_AGRUPADA = {'Mes': mes, 'Presenca': presenca}\n",
        "DataL = pd.DataFrame(data=PRESENCA_AGRUPADA)\n",
        "\n",
        "DataL['Date'] = pd.to_datetime(DataL.Mes)\n",
        "DataL = DataL.sort_values('Date')\n",
        "DataL = DataL.sort_values(by='Date')\n",
        "\n",
        "DataL = DataL[['Presenca', 'Date']]\n",
        "\n",
        "time_l = []\n",
        "for i in DataL['Date']:\n",
        "  time_l.append(i.strftime(\"%m/%Y\"))\n",
        "\n",
        "plt.figure(figsize=(40,10))\n",
        "plt.title('Quantidade de presenças do VEreador Lulinha no periodo de 2017-2021')\n",
        "plt.bar(time_l, DataL['Presenca'].to_numpy())\n",
        "plt.show()"
      ],
      "execution_count": 105,
      "outputs": [
        {
          "output_type": "display_data",
          "data": {
            "image/png": "[encoded data removed]",
            "text/plain": [
              "<Figure size 2880x720 with 1 Axes>"
            ]
          },
          "metadata": {
            "needs_background": "light"
          }
        },
        {
          "output_type": "display_data",
          "data": {
            "image/png": "[encoded data removed]",
            "text/plain": [
              "<Figure size 2880x720 with 1 Axes>"
            ]
          },
          "metadata": {
            "needs_background": "light"
          }
        },
        {
          "output_type": "display_data",
          "data": {
            "image/png": "[encoded data removed]",
            "text/plain": [
              "<Figure size 2880x720 with 1 Axes>"
            ]
          },
          "metadata": {
            "needs_background": "light"
          }
        }
      ]
    },
    {
      "cell_type": "markdown",
      "metadata": {
        "id": "9kTTQvRDvX_K"
      },
      "source": [
        "Uma observação interessante é em relação aos mêses de Dezembro e Janeiro, a presença na é extremante baixa ou inexistente. Como se trata de um perídodo de fim de ano e férias, é possível que estes acontecimentos estejam associados a isso. O mês de fevereito também apresenta um grande número de ausências, uma hipótese é que isso está associado ao período de carnaval.\n",
        "\n",
        "Observamos também que no mês 06/2020 houve uma baixa presença nos três vereadores estudados. Como se trata de um mês junino, tradicionalmente um mês festivo, é possível que haja uma relação."
      ]
    },
    {
      "cell_type": "markdown",
      "metadata": {
        "id": "QVqVWa9WsmUw"
      },
      "source": [
        "### Relação das ausências de cada um dos vereadores ao longo do mandato."
      ]
    },
    {
      "cell_type": "markdown",
      "metadata": {
        "id": "TeeArIojoi-I"
      },
      "source": [
        ""
      ]
    },
    {
      "cell_type": "code",
      "metadata": {
        "id": "dnErQCpnfFIo",
        "colab": {
          "base_uri": "https://localhost:8080/",
          "height": 1000
        },
        "outputId": "0360973b-7064-419a-b5cd-fb40eda11a4c"
      },
      "source": [
        "DataJ = JOSE_CARNEIRO_AUSENCIA[['date', 'attendance']]\n",
        "DataJ = DataJ.groupby(DataJ[\"date\"].dt.strftime('%B%Y'))['attendance'].value_counts()\n",
        "\n",
        "mes = []\n",
        "presenca = []\n",
        "\n",
        "for i in DataJ.items():\n",
        "\n",
        "    mes.append(i[0][0])\n",
        "    presenca.append(i[1])\n",
        "\n",
        "PRESENCA_AGRUPADA = {'Mes': mes, 'Presenca': presenca}\n",
        "DataJ = pd.DataFrame(data=PRESENCA_AGRUPADA)\n",
        "\n",
        "DataJ['Date'] = pd.to_datetime(DataJ.Mes)\n",
        "DataJ = DataJ.sort_values('Date')\n",
        "DataJ = DataJ.sort_values(by='Date')\n",
        "\n",
        "DataJ = DataJ[['Presenca', 'Date']]\n",
        "\n",
        "presenca_j = DataJ['Presenca']\n",
        "data_j = DataJ['Date']\n",
        "\n",
        "time_j = []\n",
        "for i in DataJ['Date']:\n",
        "  time_j.append(i.strftime(\"%m/%Y\"))\n",
        "\n",
        "plt.figure(figsize=(40,10))\n",
        "plt.title('Quantidade de Ausências do Vereador José Carneiro no periodo de 2017-2021')\n",
        "plt.bar(time_j, DataJ['Presenca'].to_numpy())\n",
        "plt.show()\n",
        "\n",
        "######\n",
        "\n",
        "DataN = NEINHA_AUSENCIA[['date', 'attendance']]\n",
        "DataN = DataN.groupby(DataN[\"date\"].dt.strftime('%B%Y'))['attendance'].value_counts()\n",
        "\n",
        "mes = []\n",
        "presenca = []\n",
        "\n",
        "for i in DataN.items():\n",
        "\n",
        "    mes.append(i[0][0])\n",
        "    presenca.append(i[1])\n",
        "\n",
        "PRESENCA_AGRUPADA = {'Mes': mes, 'Presenca': presenca}\n",
        "DataN = pd.DataFrame(data=PRESENCA_AGRUPADA)\n",
        "\n",
        "DataN['Date'] = pd.to_datetime(DataN.Mes)\n",
        "DataN = DataN.sort_values('Date')\n",
        "DataN = DataN.sort_values(by='Date')\n",
        "\n",
        "DataN = DataN[['Presenca', 'Date']]\n",
        "\n",
        "time_n = []\n",
        "for i in DataN['Date']:\n",
        "  time_n.append(i.strftime(\"%m/%Y\"))\n",
        "\n",
        "plt.figure(figsize=(40,10))\n",
        "plt.title('Quantidade de Ausências da Vereadora Neinha no periodo de 2017-2021')\n",
        "plt.bar(time_n, DataN['Presenca'].to_numpy())\n",
        "plt.show()\n",
        "\n",
        "######\n",
        "\n",
        "DataL = LULINHA_AUSENCIA[['date', 'attendance']]\n",
        "DataL = DataL.groupby(DataL[\"date\"].dt.strftime('%B%Y'))['attendance'].value_counts()\n",
        "\n",
        "mes = []\n",
        "presenca = []\n",
        "\n",
        "for i in DataL.items():\n",
        "\n",
        "    mes.append(i[0][0])\n",
        "    presenca.append(i[1])\n",
        "\n",
        "PRESENCA_AGRUPADA = {'Mes': mes, 'Presenca': presenca}\n",
        "DataL = pd.DataFrame(data=PRESENCA_AGRUPADA)\n",
        "\n",
        "DataL['Date'] = pd.to_datetime(DataL.Mes)\n",
        "DataL = DataL.sort_values('Date')\n",
        "DataL = DataL.sort_values(by='Date')\n",
        "\n",
        "DataL = DataL[['Presenca', 'Date']]\n",
        "\n",
        "time_l = []\n",
        "for i in DataL['Date']:\n",
        "  time_l.append(i.strftime(\"%m/%Y\"))\n",
        "\n",
        "plt.figure(figsize=(40,10))\n",
        "plt.title('Quantidade de Ausências do VEreador Lulinha no periodo de 2017-2021')\n",
        "plt.bar(time_l, DataL['Presenca'].to_numpy())\n",
        "plt.show()\n"
      ],
      "execution_count": 106,
      "outputs": [
        {
          "output_type": "display_data",
          "data": {
            "image/png": "[encoded data removed]",
            "text/plain": [
              "<Figure size 2880x720 with 1 Axes>"
            ]
          },
          "metadata": {
            "needs_background": "light"
          }
        },
        {
          "output_type": "display_data",
          "data": {
            "image/png": "[encoded data removed]",
            "text/plain": [
              "<Figure size 2880x720 with 1 Axes>"
            ]
          },
          "metadata": {
            "needs_background": "light"
          }
        },
        {
          "output_type": "display_data",
          "data": {
            "image/png": "[encoded data removed]",
            "text/plain": [
              "<Figure size 2880x720 with 1 Axes>"
            ]
          },
          "metadata": {
            "needs_background": "light"
          }
        }
      ]
    },
    {
      "cell_type": "markdown",
      "metadata": {
        "id": "Sq6tXjOos3Px"
      },
      "source": [
        "### Relação das ausÊncias Justificadas de cada um dos vereadores ao longo do mantado."
      ]
    },
    {
      "cell_type": "code",
      "metadata": {
        "colab": {
          "base_uri": "https://localhost:8080/",
          "height": 1000
        },
        "id": "9XxN6bFIsvTE",
        "outputId": "db1c9d92-4370-44e6-889e-a7772822d29c"
      },
      "source": [
        "DataJ = JOSE_CARNEIRO_JUSTIFICADO[['date', 'attendance']]\n",
        "DataJ = DataJ.groupby(DataJ[\"date\"].dt.strftime('%B%Y'))['attendance'].value_counts()\n",
        "\n",
        "mes = []\n",
        "presenca = []\n",
        "\n",
        "for i in DataJ.items():\n",
        "\n",
        "    mes.append(i[0][0])\n",
        "    presenca.append(i[1])\n",
        "\n",
        "PRESENCA_AGRUPADA = {'Mes': mes, 'Presenca': presenca}\n",
        "DataJ = pd.DataFrame(data=PRESENCA_AGRUPADA)\n",
        "\n",
        "DataJ['Date'] = pd.to_datetime(DataJ.Mes)\n",
        "DataJ = DataJ.sort_values('Date')\n",
        "DataJ = DataJ.sort_values(by='Date')\n",
        "\n",
        "DataJ = DataJ[['Presenca', 'Date']]\n",
        "\n",
        "presenca_j = DataJ['Presenca']\n",
        "data_j = DataJ['Date']\n",
        "\n",
        "time_j = []\n",
        "for i in DataJ['Date']:\n",
        "  time_j.append(i.strftime(\"%m/%Y\"))\n",
        "\n",
        "plt.figure(figsize=(10,10))\n",
        "plt.title('Quantidade de  Ausências Justificadas do Vereador José Carneiro no periodo de 2017-2021')\n",
        "plt.bar(time_j, DataJ['Presenca'].to_numpy())\n",
        "plt.show()\n",
        "\n",
        "######\n",
        "\n",
        "DataN = NEINHA_JUSTIFICADO[['date', 'attendance']]\n",
        "DataN = DataN.groupby(DataN[\"date\"].dt.strftime('%B%Y'))['attendance'].value_counts()\n",
        "\n",
        "mes = []\n",
        "presenca = []\n",
        "\n",
        "for i in DataN.items():\n",
        "\n",
        "    mes.append(i[0][0])\n",
        "    presenca.append(i[1])\n",
        "\n",
        "PRESENCA_AGRUPADA = {'Mes': mes, 'Presenca': presenca}\n",
        "DataN = pd.DataFrame(data=PRESENCA_AGRUPADA)\n",
        "\n",
        "DataN['Date'] = pd.to_datetime(DataN.Mes)\n",
        "DataN = DataN.sort_values('Date')\n",
        "DataN = DataN.sort_values(by='Date')\n",
        "\n",
        "DataN = DataN[['Presenca', 'Date']]\n",
        "\n",
        "time_n = []\n",
        "for i in DataN['Date']:\n",
        "  time_n.append(i.strftime(\"%m/%Y\"))\n",
        "\n",
        "plt.figure(figsize=(10,10))\n",
        "plt.title('Quantidade de  Ausências Justificadas da Vereadora Neinha no periodo de 2017-2021')\n",
        "plt.bar(time_n, DataN['Presenca'].to_numpy())\n",
        "plt.show()\n",
        "\n",
        "######\n",
        "\n",
        "DataL = LULINHA_JUSTIFICADO[['date', 'attendance']]\n",
        "DataL = DataL.groupby(DataL[\"date\"].dt.strftime('%B%Y'))['attendance'].value_counts()\n",
        "\n",
        "mes = []\n",
        "presenca = []\n",
        "\n",
        "for i in DataL.items():\n",
        "\n",
        "    mes.append(i[0][0])\n",
        "    presenca.append(i[1])\n",
        "\n",
        "PRESENCA_AGRUPADA = {'Mes': mes, 'Presenca': presenca}\n",
        "DataL = pd.DataFrame(data=PRESENCA_AGRUPADA)\n",
        "\n",
        "DataL['Date'] = pd.to_datetime(DataL.Mes)\n",
        "DataL = DataL.sort_values('Date')\n",
        "DataL = DataL.sort_values(by='Date')\n",
        "\n",
        "DataL = DataL[['Presenca', 'Date']]\n",
        "\n",
        "time_l = []\n",
        "for i in DataL['Date']:\n",
        "  time_l.append(i.strftime(\"%m/%Y\"))\n",
        "\n",
        "plt.figure(figsize=(5,5))\n",
        "plt.title('Quantidade de Ausências Justificadas do VEreador Lulinha no periodo de 2017-2021')\n",
        "plt.bar(time_l, DataL['Presenca'].to_numpy())\n",
        "plt.show()"
      ],
      "execution_count": null,
      "outputs": [
        {
          "output_type": "display_data",
          "data": {
            "image/png": "[encoded data removed]",
            "text/plain": [
              "<Figure size 720x720 with 1 Axes>"
            ]
          },
          "metadata": {
            "needs_background": "light"
          }
        },
        {
          "output_type": "display_data",
          "data": {
            "image/png": "[encoded data removed]",
            "text/plain": [
              "<Figure size 720x720 with 1 Axes>"
            ]
          },
          "metadata": {
            "needs_background": "light"
          }
        },
        {
          "output_type": "display_data",
          "data": {
            "image/png": "[encoded data removed]",
            "text/plain": [
              "<Figure size 360x360 with 1 Axes>"
            ]
          },
          "metadata": {
            "needs_background": "light"
          }
        }
      ]
    },
    {
      "cell_type": "markdown",
      "metadata": {
        "id": "ytGIj9RLTFsw"
      },
      "source": [
        "## Faça uma amostra temporal dos dados"
      ]
    },
    {
      "cell_type": "markdown",
      "metadata": {
        "id": "kUBc6EAunY1k"
      },
      "source": [
        "### Amostra 2020"
      ]
    },
    {
      "cell_type": "code",
      "metadata": {
        "colab": {
          "base_uri": "https://localhost:8080/",
          "height": 607
        },
        "id": "3c1mAWvRnfhA",
        "outputId": "fd2852b5-b7e5-4cd8-c9e3-d4adea7a6285"
      },
      "source": [
        "NEINHA_P = NEINHA[NEINHA['attendance'] == 'attending']\n",
        "NEINHA_P = NEINHA[NEINHA['year'] == 2017]\n",
        "DataN = NEINHA_P.groupby(NEINHA_PRESENCA['date'].dt.strftime('%B%Y'))['attendance'].value_counts()\n",
        "\n",
        "mes = []\n",
        "presenca = []\n",
        "\n",
        "for i in DataN.items():\n",
        "\n",
        "    mes.append(i[0][0])\n",
        "    presenca.append(i[1])\n",
        "\n",
        "DataN = {'Mes': mes, 'Presenca': presenca}\n",
        "DataN = pd.DataFrame(data=DataN)\n",
        "\n",
        "DataN['Date'] = pd.to_datetime(DataN.Mes)\n",
        "DataN = DataN.sort_values('Date')\n",
        "DataN = DataN.sort_values(by='Date')\n",
        "\n",
        "DataN = DataN[['Presenca', 'Date']]\n",
        "\n",
        "time_n = []\n",
        "for i in DataN['Date']:\n",
        "  time_n.append(i.strftime(\"%m/%Y\"))\n",
        "\n",
        "plt.figure(figsize=(20,10))\n",
        "plt.bar(time_n, DataN['Presenca'].to_numpy())\n",
        "plt.title('Frequência da Presenca de Neinha ao longos de 2020')\n",
        "plt.show()"
      ],
      "execution_count": null,
      "outputs": [
        {
          "output_type": "display_data",
          "data": {
            "image/png": "[encoded data removed]",
            "text/plain": [
              "<Figure size 1440x720 with 1 Axes>"
            ]
          },
          "metadata": {
            "needs_background": "light"
          }
        }
      ]
    },
    {
      "cell_type": "markdown",
      "metadata": {
        "id": "ZO82CKsinW1Z"
      },
      "source": [
        "### Amostra Total"
      ]
    },
    {
      "cell_type": "code",
      "metadata": {
        "colab": {
          "base_uri": "https://localhost:8080/",
          "height": 926
        },
        "id": "w_dmropBnK0e",
        "outputId": "15b87855-05e7-47ec-cb3a-7a4d5d716da2"
      },
      "source": [
        "NEINHA = df[ df['name'] == 'JOSÉ CARNEIRO']\n",
        "NEINHA['date'] = pd.to_datetime(NEINHA['date'])\n",
        "grupos = NEINHA.groupby(NEINHA['date'].dt.strftime('%B'))['attendance'].value_counts().to_frame()\n",
        "grupos"
      ],
      "execution_count": null,
      "outputs": [
        {
          "name": "stderr",
          "output_type": "stream",
          "text": [
            "/usr/local/lib/python3.7/dist-packages/ipykernel_launcher.py:2: SettingWithCopyWarning: \n",
            "A value is trying to be set on a copy of a slice from a DataFrame.\n",
            "Try using .loc[row_indexer,col_indexer] = value instead\n",
            "\n",
            "See the caveats in the documentation: https://pandas.pydata.org/pandas-docs/stable/user_guide/indexing.html#returning-a-view-versus-a-copy\n",
            "  \n"
          ]
        },
        {
          "data": {
            "text/html": [
              "<div>\n",
              "<style scoped>\n",
              "    .dataframe tbody tr th:only-of-type {\n",
              "        vertical-align: middle;\n",
              "    }\n",
              "\n",
              "    .dataframe tbody tr th {\n",
              "        vertical-align: top;\n",
              "    }\n",
              "\n",
              "    .dataframe thead th {\n",
              "        text-align: right;\n",
              "    }\n",
              "</style>\n",
              "<table border=\"1\" class=\"dataframe\">\n",
              "  <thead>\n",
              "    <tr style=\"text-align: right;\">\n",
              "      <th></th>\n",
              "      <th></th>\n",
              "      <th>attendance</th>\n",
              "    </tr>\n",
              "    <tr>\n",
              "      <th>date</th>\n",
              "      <th>attendance</th>\n",
              "      <th></th>\n",
              "    </tr>\n",
              "  </thead>\n",
              "  <tbody>\n",
              "    <tr>\n",
              "      <th rowspan=\"2\" valign=\"top\">April</th>\n",
              "      <th>attending</th>\n",
              "      <td>41</td>\n",
              "    </tr>\n",
              "    <tr>\n",
              "      <th>absent</th>\n",
              "      <td>5</td>\n",
              "    </tr>\n",
              "    <tr>\n",
              "      <th rowspan=\"2\" valign=\"top\">August</th>\n",
              "      <th>attending</th>\n",
              "      <td>67</td>\n",
              "    </tr>\n",
              "    <tr>\n",
              "      <th>absent</th>\n",
              "      <td>6</td>\n",
              "    </tr>\n",
              "    <tr>\n",
              "      <th rowspan=\"2\" valign=\"top\">December</th>\n",
              "      <th>attending</th>\n",
              "      <td>35</td>\n",
              "    </tr>\n",
              "    <tr>\n",
              "      <th>absent</th>\n",
              "      <td>4</td>\n",
              "    </tr>\n",
              "    <tr>\n",
              "      <th rowspan=\"2\" valign=\"top\">February</th>\n",
              "      <th>attending</th>\n",
              "      <td>37</td>\n",
              "    </tr>\n",
              "    <tr>\n",
              "      <th>justified</th>\n",
              "      <td>5</td>\n",
              "    </tr>\n",
              "    <tr>\n",
              "      <th>January</th>\n",
              "      <th>attending</th>\n",
              "      <td>1</td>\n",
              "    </tr>\n",
              "    <tr>\n",
              "      <th>July</th>\n",
              "      <th>attending</th>\n",
              "      <td>1</td>\n",
              "    </tr>\n",
              "    <tr>\n",
              "      <th rowspan=\"2\" valign=\"top\">June</th>\n",
              "      <th>attending</th>\n",
              "      <td>34</td>\n",
              "    </tr>\n",
              "    <tr>\n",
              "      <th>absent</th>\n",
              "      <td>4</td>\n",
              "    </tr>\n",
              "    <tr>\n",
              "      <th rowspan=\"3\" valign=\"top\">March</th>\n",
              "      <th>attending</th>\n",
              "      <td>45</td>\n",
              "    </tr>\n",
              "    <tr>\n",
              "      <th>justified</th>\n",
              "      <td>2</td>\n",
              "    </tr>\n",
              "    <tr>\n",
              "      <th>absent</th>\n",
              "      <td>1</td>\n",
              "    </tr>\n",
              "    <tr>\n",
              "      <th rowspan=\"2\" valign=\"top\">May</th>\n",
              "      <th>attending</th>\n",
              "      <td>52</td>\n",
              "    </tr>\n",
              "    <tr>\n",
              "      <th>absent</th>\n",
              "      <td>3</td>\n",
              "    </tr>\n",
              "    <tr>\n",
              "      <th rowspan=\"2\" valign=\"top\">November</th>\n",
              "      <th>attending</th>\n",
              "      <td>66</td>\n",
              "    </tr>\n",
              "    <tr>\n",
              "      <th>absent</th>\n",
              "      <td>11</td>\n",
              "    </tr>\n",
              "    <tr>\n",
              "      <th rowspan=\"3\" valign=\"top\">October</th>\n",
              "      <th>attending</th>\n",
              "      <td>72</td>\n",
              "    </tr>\n",
              "    <tr>\n",
              "      <th>justified</th>\n",
              "      <td>4</td>\n",
              "    </tr>\n",
              "    <tr>\n",
              "      <th>absent</th>\n",
              "      <td>3</td>\n",
              "    </tr>\n",
              "    <tr>\n",
              "      <th rowspan=\"2\" valign=\"top\">September</th>\n",
              "      <th>attending</th>\n",
              "      <td>59</td>\n",
              "    </tr>\n",
              "    <tr>\n",
              "      <th>absent</th>\n",
              "      <td>6</td>\n",
              "    </tr>\n",
              "  </tbody>\n",
              "</table>\n",
              "</div>"
            ],
            "text/plain": [
              "                      attendance\n",
              "date      attendance            \n",
              "April     attending           41\n",
              "          absent               5\n",
              "August    attending           67\n",
              "          absent               6\n",
              "December  attending           35\n",
              "          absent               4\n",
              "February  attending           37\n",
              "          justified            5\n",
              "January   attending            1\n",
              "July      attending            1\n",
              "June      attending           34\n",
              "          absent               4\n",
              "March     attending           45\n",
              "          justified            2\n",
              "          absent               1\n",
              "May       attending           52\n",
              "          absent               3\n",
              "November  attending           66\n",
              "          absent              11\n",
              "October   attending           72\n",
              "          justified            4\n",
              "          absent               3\n",
              "September attending           59\n",
              "          absent               6"
            ]
          },
          "execution_count": 30,
          "metadata": {},
          "output_type": "execute_result"
        }
      ]
    },
    {
      "cell_type": "markdown",
      "metadata": {
        "id": "TnWnG3d1EGs0"
      },
      "source": [
        "## Determine o total de presenças, ausências e faltas justificadas para cada data (independente do vereador). Determine o dia da semana de cada data. Faça um boxplot para cada dia da semana com os valores diários obtidos"
      ]
    },
    {
      "cell_type": "code",
      "metadata": {
        "id": "WkCR7uQByMsf"
      },
      "source": [
        "colunas = [\"attendance\", \"date\"]\n",
        "\n",
        "attend = df[ df['attendance'] == 'attending']\n",
        "absent = df[ df['attendance'] == 'absent']\n",
        "justify = df[ df['attendance'] == 'justified']\n",
        "\n",
        "attend = attend[colunas]\n",
        "absent = absent[colunas]\n",
        "justify = justify[colunas]"
      ],
      "execution_count": null,
      "outputs": []
    },
    {
      "cell_type": "code",
      "metadata": {
        "colab": {
          "base_uri": "https://localhost:8080/"
        },
        "id": "Pj1K6acKyu5B",
        "outputId": "f6b06e2b-6118-42d7-8238-20c788da543b"
      },
      "source": [
        "attend_g = attend.groupby(attend[\"date\"].dt.strftime('%D%B%Y'))['attendance'].value_counts()\n",
        "attend_g"
      ],
      "execution_count": null,
      "outputs": [
        {
          "output_type": "execute_result",
          "data": {
            "text/plain": [
              "date                  attendance\n",
              "01/02/19January2019   attending     15\n",
              "02/01/18February2018  attending     19\n",
              "02/01/19February2019  attending     18\n",
              "02/01/21February2021  attending     21\n",
              "02/02/21February2021  attending     21\n",
              "                                    ..\n",
              "12/12/19December2019  attending     18\n",
              "12/13/17December2017  attending     20\n",
              "12/13/18December2018  attending     10\n",
              "12/14/20December2020  attending     20\n",
              "12/15/20December2020  attending     19\n",
              "Name: attendance, Length: 438, dtype: int64"
            ]
          },
          "metadata": {},
          "execution_count": 44
        }
      ]
    },
    {
      "cell_type": "markdown",
      "metadata": {
        "id": "vj0YOKIavzG8"
      },
      "source": [
        "## Determine o total de presenças, ausências e faltas justificadas a cada mês de cada ano. Faça um gráfico com boxplots mensais de presença, outro com boxplots mensais de ausência e outro com boxplots mensais de faltas justificadas para cada mês com os valores mensais obtidos"
      ]
    },
    {
      "cell_type": "code",
      "metadata": {
        "id": "2YghMWqWudW3"
      },
      "source": [
        "colunas = [\"attendance\", \"date\"]\n",
        "\n",
        "attend = df[ df['attendance'] == 'attending']\n",
        "absent = df[ df['attendance'] == 'absent']\n",
        "justify = df[ df['attendance'] == 'justified']\n",
        "\n",
        "attend = attend[colunas]\n",
        "absent = absent[colunas]\n",
        "justify = justify[colunas]"
      ],
      "execution_count": null,
      "outputs": []
    },
    {
      "cell_type": "code",
      "metadata": {
        "colab": {
          "base_uri": "https://localhost:8080/",
          "height": 680
        },
        "id": "eq5ManzewFGG",
        "outputId": "07b80418-7ecc-4290-f9ad-cc53ee257c03"
      },
      "source": [
        "attend_g = attend.groupby(attend[\"date\"].dt.strftime('%B%Y'))['attendance'].value_counts()\n",
        "\n",
        "mes = []\n",
        "presenca = []\n",
        "\n",
        "for i in attend_g.items():\n",
        "\n",
        "    mes.append(i[0][0])\n",
        "    presenca.append(i[1])\n",
        "\n",
        "PRESENCA_AGRUPADA = {'Mes': mes, 'Presenca': presenca}\n",
        "attend_g = pd.DataFrame(data=PRESENCA_AGRUPADA)\n",
        "\n",
        "attend_g['Date'] = pd.to_datetime(attend_g.Mes)\n",
        "attend_g = attend_g.sort_values('Date')\n",
        "attend_g = attend_g.sort_values(by='Date')\n",
        "\n",
        "attend_g = attend_g[['Presenca', 'Date']]\n",
        "\n",
        "presenca_j = attend_g['Presenca']\n",
        "data_j = attend_g['Date']\n",
        "\n",
        "time_j = []\n",
        "for i in attend_g['Date']:\n",
        "  time_j.append(i.strftime(\"%m/%Y\"))\n",
        "\n",
        "#plt.figure(figsize=(10,5))\n",
        "#presenca_j.plot.box()\n",
        "#plt.title('boxplot de presenças totais')\n",
        "#plt.show()\n",
        "\n",
        "###\n",
        "\n",
        "absent_g = absent.groupby(absent[\"date\"].dt.strftime('%B%Y'))['attendance'].value_counts()\n",
        "\n",
        "mes = []\n",
        "presenca = []\n",
        "\n",
        "for i in absent_g.items():\n",
        "\n",
        "    mes.append(i[0][0])\n",
        "    presenca.append(i[1])\n",
        "\n",
        "AUSENCUA_AGRUPADA = {'Mes': mes, 'Presenca': presenca}\n",
        "absent_g = pd.DataFrame(data=AUSENCUA_AGRUPADA)\n",
        "\n",
        "absent_g['Date'] = pd.to_datetime(absent_g.Mes)\n",
        "absent_g = absent_g.sort_values('Date')\n",
        "absent_g = absent_g.sort_values(by='Date')\n",
        "\n",
        "absent_g = absent_g[['Presenca', 'Date']]\n",
        "\n",
        "ausencia_j = absent_g['Presenca']\n",
        "data_j = absent_g['Date']\n",
        "\n",
        "time_j = []\n",
        "for i in absent_g['Date']:\n",
        "  time_j.append(i.strftime(\"%m/%Y\"))\n",
        "\n",
        "\n",
        "#plt.figure(figsize=(10,5))\n",
        "#ausencia_j.plot.box()\n",
        "#plt.title('boxplot de ausências totais')\n",
        "#plt.show()\n",
        "\n",
        "###\n",
        "\n",
        "justify_g = justify.groupby(justify[\"date\"].dt.strftime('%B%Y'))['attendance'].value_counts()\n",
        "\n",
        "mes = []\n",
        "presenca = []\n",
        "\n",
        "for i in justify_g.items():\n",
        "\n",
        "    mes.append(i[0][0])\n",
        "    presenca.append(i[1])\n",
        "\n",
        "JUSTIFY_AGRUPADA = {'Mes': mes, 'Presenca': presenca}\n",
        "justify_g = pd.DataFrame(data=JUSTIFY_AGRUPADA)\n",
        "\n",
        "justify_g['Date'] = pd.to_datetime(justify_g.Mes)\n",
        "justify_g = justify_g.sort_values('Date')\n",
        "justify_g = justify_g.sort_values(by='Date')\n",
        "\n",
        "justify_g = justify_g[['Presenca', 'Date']]\n",
        "\n",
        "justify_j = justify_g['Presenca']\n",
        "data_j = justify_g['Date']\n",
        "\n",
        "time_j = []\n",
        "for i in justify_g['Date']:\n",
        "  time_j.append(i.strftime(\"%m/%Y\"))\n",
        "\n",
        "#plt.figure(figsize=(10,5))\n",
        "#justify_j.plot.box()\n",
        "#plt.title('boxplot de ausências justificadas totais')\n",
        "#plt.show()\n",
        "\n",
        "total = pd.DataFrame()\n",
        "total['Presença'] = presenca_j\n",
        "total['Ausência'] = ausencia_j\n",
        "total['justificada'] = justify_j\n",
        "\n",
        "total.plot.box(grid=True,figsize=(15,10))\n",
        "plt.title('boxplot de Presença, Ausência e Ausências Justificadas totais')\n"
      ],
      "execution_count": null,
      "outputs": [
        {
          "output_type": "stream",
          "name": "stderr",
          "text": [
            "/usr/local/lib/python3.7/dist-packages/numpy/core/_asarray.py:83: VisibleDeprecationWarning: Creating an ndarray from ragged nested sequences (which is a list-or-tuple of lists-or-tuples-or ndarrays with different lengths or shapes) is deprecated. If you meant to do this, you must specify 'dtype=object' when creating the ndarray\n",
            "  return array(a, dtype, copy=False, order=order)\n"
          ]
        },
        {
          "output_type": "execute_result",
          "data": {
            "text/plain": [
              "Text(0.5, 1.0, 'boxplot de Presença, Ausência e Ausências Justificadas totais')"
            ]
          },
          "metadata": {},
          "execution_count": 24
        },
        {
          "output_type": "display_data",
          "data": {
            "image/png": "[encoded data removed]",
            "text/plain": [
              "<Figure size 1080x720 with 1 Axes>"
            ]
          },
          "metadata": {
            "needs_background": "light"
          }
        }
      ]
    },
    {
      "cell_type": "markdown",
      "metadata": {
        "id": "S0km8WSVujU1"
      },
      "source": [
        "Observa-se que a quantidade de presenças no geral ainda é melhor que a quaintidade de ausências no geral."
      ]
    },
    {
      "cell_type": "markdown",
      "metadata": {
        "id": "fHAVgVHvTREy"
      },
      "source": [
        "## Escolha 2 vereadores, determine a quantidade de presenças de cada um a cada mês a cada ano e faça um gráfico de dispersão entre vereadores"
      ]
    },
    {
      "cell_type": "code",
      "metadata": {
        "colab": {
          "base_uri": "https://localhost:8080/",
          "height": 1000
        },
        "id": "OBEPCCluU82n",
        "outputId": "d3a187af-94e6-4e54-9f55-2093aa0ece9a"
      },
      "source": [
        "JOSE_CARNEIRO_PRESENCA = JOSE_CARNEIRO[JOSE_CARNEIRO['attendance'] == 'attending']\n",
        "PRESENCA_JOSE_CARNEIRO_AGRUPADA = JOSE_CARNEIRO_PRESENCA.groupby(JOSE_CARNEIRO_PRESENCA[\"date\"].dt.strftime('%B%Y'))['attendance'].value_counts()\n",
        "\n",
        "NEINHA_PRESENCA = NEINHA[NEINHA['attendance'] == 'attending']\n",
        "PRESENCA_NEINHA_AGRUPADA = NEINHA_PRESENCA.groupby(NEINHA_PRESENCA[\"date\"].dt.strftime('%B'))['attendance'].value_counts()\n",
        "\n",
        "LULINHA_PRESENCA = LULINHA[LULINHA['attendance'] == 'attending']\n",
        "#LULINHA_PRESENCA['date'] = pd.to_datetime(LULINHA_PRESENCA['date'])\n",
        "PRESENCA_LULINHA_AGRUPADA = LULINHA_PRESENCA.groupby(LULINHA_PRESENCA[\"date\"].dt.strftime('%B%Y'))['attendance'].value_counts()\n",
        "\n",
        "mes_j = []\n",
        "mes_l = []\n",
        "presenca_n = []\n",
        "presenca_j = []\n",
        "presenca_L = []\n",
        "\n",
        "for i in PRESENCA_JOSE_CARNEIRO_AGRUPADA.items():\n",
        "    mes_j.append(i[0][0])\n",
        "    presenca_j.append(i[1])\n",
        "\n",
        "for i in PRESENCA_NEINHA_AGRUPADA.items():\n",
        "    presenca_n.append(i[1])\n",
        "\n",
        "for i in PRESENCA_LULINHA_AGRUPADA .items():\n",
        "\n",
        "    if i[0][0] != 'March2021':\n",
        "      mes_l.append(i[0][0])\n",
        "      presenca_L.append(i[1])\n",
        "\n",
        "PRESENCA_2_AGRUPADA = {'Mes': mes_l, 'Presenca_LULINHA': presenca_L, 'Presenca_JOSE_CARNEIRO': presenca_j}\n",
        "PRESENCA_2_AGRUPADA = pd.DataFrame(data=PRESENCA_2_AGRUPADA)\n",
        "PRESENCA_2_AGRUPADA"
      ],
      "execution_count": null,
      "outputs": [
        {
          "data": {
            "text/html": [
              "<div>\n",
              "<style scoped>\n",
              "    .dataframe tbody tr th:only-of-type {\n",
              "        vertical-align: middle;\n",
              "    }\n",
              "\n",
              "    .dataframe tbody tr th {\n",
              "        vertical-align: top;\n",
              "    }\n",
              "\n",
              "    .dataframe thead th {\n",
              "        text-align: right;\n",
              "    }\n",
              "</style>\n",
              "<table border=\"1\" class=\"dataframe\">\n",
              "  <thead>\n",
              "    <tr style=\"text-align: right;\">\n",
              "      <th></th>\n",
              "      <th>Mes</th>\n",
              "      <th>Presenca_LULINHA</th>\n",
              "      <th>Presenca_JOSE_CARNEIRO</th>\n",
              "    </tr>\n",
              "  </thead>\n",
              "  <tbody>\n",
              "    <tr>\n",
              "      <th>0</th>\n",
              "      <td>April2018</td>\n",
              "      <td>14</td>\n",
              "      <td>17</td>\n",
              "    </tr>\n",
              "    <tr>\n",
              "      <th>1</th>\n",
              "      <td>April2019</td>\n",
              "      <td>13</td>\n",
              "      <td>15</td>\n",
              "    </tr>\n",
              "    <tr>\n",
              "      <th>2</th>\n",
              "      <td>April2020</td>\n",
              "      <td>9</td>\n",
              "      <td>9</td>\n",
              "    </tr>\n",
              "    <tr>\n",
              "      <th>3</th>\n",
              "      <td>August2017</td>\n",
              "      <td>15</td>\n",
              "      <td>13</td>\n",
              "    </tr>\n",
              "    <tr>\n",
              "      <th>4</th>\n",
              "      <td>August2018</td>\n",
              "      <td>12</td>\n",
              "      <td>20</td>\n",
              "    </tr>\n",
              "    <tr>\n",
              "      <th>5</th>\n",
              "      <td>August2019</td>\n",
              "      <td>14</td>\n",
              "      <td>21</td>\n",
              "    </tr>\n",
              "    <tr>\n",
              "      <th>6</th>\n",
              "      <td>August2020</td>\n",
              "      <td>13</td>\n",
              "      <td>13</td>\n",
              "    </tr>\n",
              "    <tr>\n",
              "      <th>7</th>\n",
              "      <td>December2017</td>\n",
              "      <td>6</td>\n",
              "      <td>9</td>\n",
              "    </tr>\n",
              "    <tr>\n",
              "      <th>8</th>\n",
              "      <td>December2018</td>\n",
              "      <td>7</td>\n",
              "      <td>9</td>\n",
              "    </tr>\n",
              "    <tr>\n",
              "      <th>9</th>\n",
              "      <td>December2019</td>\n",
              "      <td>8</td>\n",
              "      <td>10</td>\n",
              "    </tr>\n",
              "    <tr>\n",
              "      <th>10</th>\n",
              "      <td>December2020</td>\n",
              "      <td>7</td>\n",
              "      <td>7</td>\n",
              "    </tr>\n",
              "    <tr>\n",
              "      <th>11</th>\n",
              "      <td>February2018</td>\n",
              "      <td>11</td>\n",
              "      <td>11</td>\n",
              "    </tr>\n",
              "    <tr>\n",
              "      <th>12</th>\n",
              "      <td>February2019</td>\n",
              "      <td>11</td>\n",
              "      <td>15</td>\n",
              "    </tr>\n",
              "    <tr>\n",
              "      <th>13</th>\n",
              "      <td>February2020</td>\n",
              "      <td>8</td>\n",
              "      <td>8</td>\n",
              "    </tr>\n",
              "    <tr>\n",
              "      <th>14</th>\n",
              "      <td>February2021</td>\n",
              "      <td>5</td>\n",
              "      <td>3</td>\n",
              "    </tr>\n",
              "    <tr>\n",
              "      <th>15</th>\n",
              "      <td>January2019</td>\n",
              "      <td>1</td>\n",
              "      <td>1</td>\n",
              "    </tr>\n",
              "    <tr>\n",
              "      <th>16</th>\n",
              "      <td>July2018</td>\n",
              "      <td>1</td>\n",
              "      <td>1</td>\n",
              "    </tr>\n",
              "    <tr>\n",
              "      <th>17</th>\n",
              "      <td>June2018</td>\n",
              "      <td>16</td>\n",
              "      <td>16</td>\n",
              "    </tr>\n",
              "    <tr>\n",
              "      <th>18</th>\n",
              "      <td>June2019</td>\n",
              "      <td>15</td>\n",
              "      <td>15</td>\n",
              "    </tr>\n",
              "    <tr>\n",
              "      <th>19</th>\n",
              "      <td>June2020</td>\n",
              "      <td>3</td>\n",
              "      <td>3</td>\n",
              "    </tr>\n",
              "    <tr>\n",
              "      <th>20</th>\n",
              "      <td>March2018</td>\n",
              "      <td>19</td>\n",
              "      <td>21</td>\n",
              "    </tr>\n",
              "    <tr>\n",
              "      <th>21</th>\n",
              "      <td>March2019</td>\n",
              "      <td>12</td>\n",
              "      <td>13</td>\n",
              "    </tr>\n",
              "    <tr>\n",
              "      <th>22</th>\n",
              "      <td>March2020</td>\n",
              "      <td>10</td>\n",
              "      <td>11</td>\n",
              "    </tr>\n",
              "    <tr>\n",
              "      <th>23</th>\n",
              "      <td>May2018</td>\n",
              "      <td>19</td>\n",
              "      <td>22</td>\n",
              "    </tr>\n",
              "    <tr>\n",
              "      <th>24</th>\n",
              "      <td>May2019</td>\n",
              "      <td>17</td>\n",
              "      <td>20</td>\n",
              "    </tr>\n",
              "    <tr>\n",
              "      <th>25</th>\n",
              "      <td>May2020</td>\n",
              "      <td>10</td>\n",
              "      <td>10</td>\n",
              "    </tr>\n",
              "    <tr>\n",
              "      <th>26</th>\n",
              "      <td>November2017</td>\n",
              "      <td>18</td>\n",
              "      <td>19</td>\n",
              "    </tr>\n",
              "    <tr>\n",
              "      <th>27</th>\n",
              "      <td>November2018</td>\n",
              "      <td>16</td>\n",
              "      <td>19</td>\n",
              "    </tr>\n",
              "    <tr>\n",
              "      <th>28</th>\n",
              "      <td>November2019</td>\n",
              "      <td>17</td>\n",
              "      <td>16</td>\n",
              "    </tr>\n",
              "    <tr>\n",
              "      <th>29</th>\n",
              "      <td>November2020</td>\n",
              "      <td>12</td>\n",
              "      <td>12</td>\n",
              "    </tr>\n",
              "    <tr>\n",
              "      <th>30</th>\n",
              "      <td>October2017</td>\n",
              "      <td>17</td>\n",
              "      <td>20</td>\n",
              "    </tr>\n",
              "    <tr>\n",
              "      <th>31</th>\n",
              "      <td>October2018</td>\n",
              "      <td>18</td>\n",
              "      <td>23</td>\n",
              "    </tr>\n",
              "    <tr>\n",
              "      <th>32</th>\n",
              "      <td>October2019</td>\n",
              "      <td>18</td>\n",
              "      <td>19</td>\n",
              "    </tr>\n",
              "    <tr>\n",
              "      <th>33</th>\n",
              "      <td>October2020</td>\n",
              "      <td>10</td>\n",
              "      <td>10</td>\n",
              "    </tr>\n",
              "    <tr>\n",
              "      <th>34</th>\n",
              "      <td>September2017</td>\n",
              "      <td>12</td>\n",
              "      <td>13</td>\n",
              "    </tr>\n",
              "    <tr>\n",
              "      <th>35</th>\n",
              "      <td>September2018</td>\n",
              "      <td>13</td>\n",
              "      <td>16</td>\n",
              "    </tr>\n",
              "    <tr>\n",
              "      <th>36</th>\n",
              "      <td>September2019</td>\n",
              "      <td>17</td>\n",
              "      <td>17</td>\n",
              "    </tr>\n",
              "    <tr>\n",
              "      <th>37</th>\n",
              "      <td>September2020</td>\n",
              "      <td>13</td>\n",
              "      <td>13</td>\n",
              "    </tr>\n",
              "  </tbody>\n",
              "</table>\n",
              "</div>"
            ],
            "text/plain": [
              "              Mes  Presenca_LULINHA  Presenca_JOSE_CARNEIRO\n",
              "0       April2018                14                      17\n",
              "1       April2019                13                      15\n",
              "2       April2020                 9                       9\n",
              "3      August2017                15                      13\n",
              "4      August2018                12                      20\n",
              "5      August2019                14                      21\n",
              "6      August2020                13                      13\n",
              "7    December2017                 6                       9\n",
              "8    December2018                 7                       9\n",
              "9    December2019                 8                      10\n",
              "10   December2020                 7                       7\n",
              "11   February2018                11                      11\n",
              "12   February2019                11                      15\n",
              "13   February2020                 8                       8\n",
              "14   February2021                 5                       3\n",
              "15    January2019                 1                       1\n",
              "16       July2018                 1                       1\n",
              "17       June2018                16                      16\n",
              "18       June2019                15                      15\n",
              "19       June2020                 3                       3\n",
              "20      March2018                19                      21\n",
              "21      March2019                12                      13\n",
              "22      March2020                10                      11\n",
              "23        May2018                19                      22\n",
              "24        May2019                17                      20\n",
              "25        May2020                10                      10\n",
              "26   November2017                18                      19\n",
              "27   November2018                16                      19\n",
              "28   November2019                17                      16\n",
              "29   November2020                12                      12\n",
              "30    October2017                17                      20\n",
              "31    October2018                18                      23\n",
              "32    October2019                18                      19\n",
              "33    October2020                10                      10\n",
              "34  September2017                12                      13\n",
              "35  September2018                13                      16\n",
              "36  September2019                17                      17\n",
              "37  September2020                13                      13"
            ]
          },
          "execution_count": 33,
          "metadata": {},
          "output_type": "execute_result"
        }
      ]
    },
    {
      "cell_type": "code",
      "metadata": {
        "colab": {
          "base_uri": "https://localhost:8080/",
          "height": 460
        },
        "id": "8zSK6tQEUbTs",
        "outputId": "d4c1a385-e724-4523-ee1e-5bae99f0805a"
      },
      "source": [
        "plt.figure(figsize=(8,7))\n",
        "plt.scatter(PRESENCA_2_AGRUPADA.Presenca_JOSE_CARNEIRO, PRESENCA_2_AGRUPADA.Presenca_LULINHA)\n",
        "plt.ylabel('Presenca_LULINHA')\n",
        "plt.xlabel('Presenca_JOSE_CARNEIRO')"
      ],
      "execution_count": null,
      "outputs": [
        {
          "data": {
            "text/plain": [
              "Text(0.5, 0, 'Presenca_JOSE_CARNEIRO')"
            ]
          },
          "execution_count": 34,
          "metadata": {},
          "output_type": "execute_result"
        },
        {
          "data": {
            "image/png": "[encoded data removed]",
            "text/plain": [
              "<Figure size 576x504 with 1 Axes>"
            ]
          },
          "metadata": {},
          "output_type": "display_data"
        }
      ]
    },
    {
      "cell_type": "markdown",
      "metadata": {
        "id": "NOBVMsxsuG2s"
      },
      "source": [
        "Curiosamente, podemos observar que existe uma relação na quantidade de presença entre esses dois vereadores, mas é difícil especular o motivo. Seria interessante avaliar se esta mesma relação de crescimento nas presenças também está associada a outros veradores ou se foi somente uma causalidade."
      ]
    },
    {
      "cell_type": "markdown",
      "metadata": {
        "id": "tIGGBaxoyrp-"
      },
      "source": [
        "## Como é o comportamento dos vereadores em relação as presenças nas sessões em um ano eleitoral, se comparado com os últimos anos?"
      ]
    },
    {
      "cell_type": "code",
      "metadata": {
        "colab": {
          "base_uri": "https://localhost:8080/"
        },
        "id": "5ufBm1hwPlHq",
        "outputId": "c0e4a356-3890-4f77-94da-ee6149c9b111"
      },
      "source": [
        "ano2020 = df.query(\"year == 2020 & attendance == 'attending'\")[\"attendance\"].count()\n",
        "ano2019 = df.query(\"year == 2019 & attendance == 'attending'\")[\"attendance\"].count()\n",
        "ano2018 = df.query(\"year == 2018 & attendance == 'attending'\")[\"attendance\"].count()\n",
        "\n",
        "print(\"Quantidade de presenças totais no ano de 2020: \", ano2020)\n",
        "print(\"Quantidade de presenças totais no ano de 2019: \", ano2019)\n",
        "print(\"Quantidade de presenças totais no ano de 2018: \", ano2018)"
      ],
      "execution_count": null,
      "outputs": [
        {
          "output_type": "stream",
          "name": "stdout",
          "text": [
            "Quantidade de presenças totais no ano de 2020:  1864\n",
            "Quantidade de presenças totais no ano de 2019:  2678\n",
            "Quantidade de presenças totais no ano de 2018:  2599\n"
          ]
        }
      ]
    },
    {
      "cell_type": "markdown",
      "metadata": {
        "id": "AIzBOC52R9OU"
      },
      "source": [
        "Podemos observar que o a quantidade de preseça nas sessões em um período eleitoral é relativamente menor do que os últimos dois anos. Uma das justificativas que pode-se especular em relação a esse acontecimento é que em um ano eleitoral os vereadores dedicam mais tempos ao processo de candidatura e apoio a outras candidaturas e com isso negligênciam as sessões da câmara.\n"
      ]
    },
    {
      "cell_type": "markdown",
      "metadata": {
        "id": "mGWBtHtry001"
      },
      "source": [
        ""
      ]
    },
    {
      "cell_type": "code",
      "metadata": {
        "id": "gLi4-mwRyql0"
      },
      "source": [
        ""
      ],
      "execution_count": null,
      "outputs": []
    }
  ]
}